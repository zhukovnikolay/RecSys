{
 "cells": [
  {
   "cell_type": "markdown",
   "metadata": {},
   "source": [
    "## Homework 2"
   ]
  },
  {
   "cell_type": "markdown",
   "metadata": {},
   "source": [
    "### Подготовка"
   ]
  },
  {
   "cell_type": "code",
   "execution_count": 1,
   "metadata": {
    "colab": {},
    "colab_type": "code",
    "id": "rgIzW-DSC8Yi"
   },
   "outputs": [],
   "source": [
    "import pandas as pd\n",
    "import numpy as np\n",
    "import matplotlib.pyplot as plt\n",
    "%matplotlib inline\n",
    "\n",
    "# Для работы с матрицами\n",
    "from scipy.sparse import csr_matrix, coo_matrix\n",
    "\n",
    "# Детерминированные алгоритмы\n",
    "from implicit.nearest_neighbours import ItemItemRecommender, CosineRecommender, TFIDFRecommender, BM25Recommender\n",
    "\n",
    "# Метрики\n",
    "from implicit.evaluation import train_test_split\n",
    "\n",
    "# Функции из 1-ого вебинара\n",
    "import os, sys   \n",
    "from metrics import precision_at_k, recall_at_k\n",
    "\n",
    "# Базовые модели\n",
    "from baseline_models import random_recommendation, popularity_recommendation"
   ]
  },
  {
   "cell_type": "code",
   "execution_count": 2,
   "metadata": {
    "colab": {},
    "colab_type": "code",
    "id": "9qFkcgyrC8Yt",
    "outputId": "24a33bf1-942a-4b18-c54a-a7500c8f8712"
   },
   "outputs": [
    {
     "data": {
      "text/html": [
       "<div>\n",
       "<style scoped>\n",
       "    .dataframe tbody tr th:only-of-type {\n",
       "        vertical-align: middle;\n",
       "    }\n",
       "\n",
       "    .dataframe tbody tr th {\n",
       "        vertical-align: top;\n",
       "    }\n",
       "\n",
       "    .dataframe thead th {\n",
       "        text-align: right;\n",
       "    }\n",
       "</style>\n",
       "<table border=\"1\" class=\"dataframe\">\n",
       "  <thead>\n",
       "    <tr style=\"text-align: right;\">\n",
       "      <th></th>\n",
       "      <th>user_id</th>\n",
       "      <th>basket_id</th>\n",
       "      <th>day</th>\n",
       "      <th>item_id</th>\n",
       "      <th>quantity</th>\n",
       "      <th>sales_value</th>\n",
       "      <th>store_id</th>\n",
       "      <th>retail_disc</th>\n",
       "      <th>trans_time</th>\n",
       "      <th>week_no</th>\n",
       "      <th>coupon_disc</th>\n",
       "      <th>coupon_match_disc</th>\n",
       "    </tr>\n",
       "  </thead>\n",
       "  <tbody>\n",
       "    <tr>\n",
       "      <th>0</th>\n",
       "      <td>2375</td>\n",
       "      <td>26984851472</td>\n",
       "      <td>1</td>\n",
       "      <td>1004906</td>\n",
       "      <td>1</td>\n",
       "      <td>1.39</td>\n",
       "      <td>364</td>\n",
       "      <td>-0.6</td>\n",
       "      <td>1631</td>\n",
       "      <td>1</td>\n",
       "      <td>0.0</td>\n",
       "      <td>0.0</td>\n",
       "    </tr>\n",
       "    <tr>\n",
       "      <th>1</th>\n",
       "      <td>2375</td>\n",
       "      <td>26984851472</td>\n",
       "      <td>1</td>\n",
       "      <td>1033142</td>\n",
       "      <td>1</td>\n",
       "      <td>0.82</td>\n",
       "      <td>364</td>\n",
       "      <td>0.0</td>\n",
       "      <td>1631</td>\n",
       "      <td>1</td>\n",
       "      <td>0.0</td>\n",
       "      <td>0.0</td>\n",
       "    </tr>\n",
       "  </tbody>\n",
       "</table>\n",
       "</div>"
      ],
      "text/plain": [
       "   user_id    basket_id  day  item_id  quantity  sales_value  store_id  \\\n",
       "0     2375  26984851472    1  1004906         1         1.39       364   \n",
       "1     2375  26984851472    1  1033142         1         0.82       364   \n",
       "\n",
       "   retail_disc  trans_time  week_no  coupon_disc  coupon_match_disc  \n",
       "0         -0.6        1631        1          0.0                0.0  \n",
       "1          0.0        1631        1          0.0                0.0  "
      ]
     },
     "execution_count": 2,
     "metadata": {},
     "output_type": "execute_result"
    }
   ],
   "source": [
    "data = pd.read_csv('data/retail_train.csv')\n",
    "data.head(2)"
   ]
  },
  {
   "cell_type": "code",
   "execution_count": 3,
   "metadata": {
    "colab": {},
    "colab_type": "code",
    "id": "epcBZlgJC8Y0"
   },
   "outputs": [],
   "source": [
    "test_size_weeks = 3\n",
    "\n",
    "data_train = data[data['week_no'] < data['week_no'].max() - test_size_weeks]\n",
    "data_test = data[data['week_no'] >= data['week_no'].max() - test_size_weeks]"
   ]
  },
  {
   "cell_type": "code",
   "execution_count": 4,
   "metadata": {},
   "outputs": [
    {
     "data": {
      "text/html": [
       "<div>\n",
       "<style scoped>\n",
       "    .dataframe tbody tr th:only-of-type {\n",
       "        vertical-align: middle;\n",
       "    }\n",
       "\n",
       "    .dataframe tbody tr th {\n",
       "        vertical-align: top;\n",
       "    }\n",
       "\n",
       "    .dataframe thead th {\n",
       "        text-align: right;\n",
       "    }\n",
       "</style>\n",
       "<table border=\"1\" class=\"dataframe\">\n",
       "  <thead>\n",
       "    <tr style=\"text-align: right;\">\n",
       "      <th></th>\n",
       "      <th>user_id</th>\n",
       "      <th>actual</th>\n",
       "    </tr>\n",
       "  </thead>\n",
       "  <tbody>\n",
       "    <tr>\n",
       "      <th>0</th>\n",
       "      <td>1</td>\n",
       "      <td>[821867, 834484, 856942, 865456, 889248, 90795...</td>\n",
       "    </tr>\n",
       "    <tr>\n",
       "      <th>1</th>\n",
       "      <td>3</td>\n",
       "      <td>[835476, 851057, 872021, 878302, 879948, 90963...</td>\n",
       "    </tr>\n",
       "  </tbody>\n",
       "</table>\n",
       "</div>"
      ],
      "text/plain": [
       "   user_id                                             actual\n",
       "0        1  [821867, 834484, 856942, 865456, 889248, 90795...\n",
       "1        3  [835476, 851057, 872021, 878302, 879948, 90963..."
      ]
     },
     "execution_count": 4,
     "metadata": {},
     "output_type": "execute_result"
    }
   ],
   "source": [
    "result = data_test.groupby('user_id')['item_id'].unique().reset_index()\n",
    "result.columns=['user_id', 'actual']\n",
    "result.head(2)"
   ]
  },
  {
   "cell_type": "markdown",
   "metadata": {
    "colab_type": "text",
    "id": "zlUUzLFeC8Y4"
   },
   "source": [
    "### Задание 1. Weighted Random Recommendation\n",
    "\n",
    "Напишите код для случайных рекоммендаций, в которых вероятность рекомендовать товар прямо пропорциональна логарифму продаж\n",
    "- Можно сэмплировать товары случайно, но пропорционально какому-либо весу\n",
    "- Например, прямопропорционально популярности. Вес = log(sales_sum товара)"
   ]
  },
  {
   "cell_type": "code",
   "execution_count": 5,
   "metadata": {
    "colab": {},
    "colab_type": "code",
    "id": "brMuCHolC8Y4"
   },
   "outputs": [],
   "source": [
    "def weighted_random_recommendation(items_weights, n=5):\n",
    "    \"\"\"Случайные рекоммендации\n",
    "    \n",
    "    Input\n",
    "    -----\n",
    "    items_weights: pd.DataFrame\n",
    "        Датафрейм со столбцами item_id, weight. Сумма weight по всем товарам = 1\n",
    "    \"\"\"\n",
    "    \n",
    "    # Подсказка: необходимо модифицировать функцию random_recommendation()\n",
    "    # your_code\n",
    "    items = items_weights['item_id']\n",
    "    weights = items_weights['weight']\n",
    "    recs = np.random.choice(items, size=n, p=weights, replace=False)\n",
    "    \n",
    "    return recs.tolist()"
   ]
  },
  {
   "cell_type": "code",
   "execution_count": 6,
   "metadata": {},
   "outputs": [
    {
     "data": {
      "text/html": [
       "<div>\n",
       "<style scoped>\n",
       "    .dataframe tbody tr th:only-of-type {\n",
       "        vertical-align: middle;\n",
       "    }\n",
       "\n",
       "    .dataframe tbody tr th {\n",
       "        vertical-align: top;\n",
       "    }\n",
       "\n",
       "    .dataframe thead th {\n",
       "        text-align: right;\n",
       "    }\n",
       "</style>\n",
       "<table border=\"1\" class=\"dataframe\">\n",
       "  <thead>\n",
       "    <tr style=\"text-align: right;\">\n",
       "      <th></th>\n",
       "      <th>item_id</th>\n",
       "      <th>sales_value</th>\n",
       "      <th>weight</th>\n",
       "    </tr>\n",
       "  </thead>\n",
       "  <tbody>\n",
       "    <tr>\n",
       "      <th>56233</th>\n",
       "      <td>6534178</td>\n",
       "      <td>467993.62</td>\n",
       "      <td>0.000057</td>\n",
       "    </tr>\n",
       "    <tr>\n",
       "      <th>56193</th>\n",
       "      <td>6533889</td>\n",
       "      <td>42645.75</td>\n",
       "      <td>0.000046</td>\n",
       "    </tr>\n",
       "    <tr>\n",
       "      <th>29195</th>\n",
       "      <td>1029743</td>\n",
       "      <td>37981.91</td>\n",
       "      <td>0.000046</td>\n",
       "    </tr>\n",
       "    <tr>\n",
       "      <th>56228</th>\n",
       "      <td>6534166</td>\n",
       "      <td>31298.96</td>\n",
       "      <td>0.000045</td>\n",
       "    </tr>\n",
       "    <tr>\n",
       "      <th>35054</th>\n",
       "      <td>1082185</td>\n",
       "      <td>27291.02</td>\n",
       "      <td>0.000044</td>\n",
       "    </tr>\n",
       "  </tbody>\n",
       "</table>\n",
       "</div>"
      ],
      "text/plain": [
       "       item_id  sales_value    weight\n",
       "56233  6534178    467993.62  0.000057\n",
       "56193  6533889     42645.75  0.000046\n",
       "29195  1029743     37981.91  0.000046\n",
       "56228  6534166     31298.96  0.000045\n",
       "35054  1082185     27291.02  0.000044"
      ]
     },
     "execution_count": 6,
     "metadata": {},
     "output_type": "execute_result"
    }
   ],
   "source": [
    "# получаем список самых популярных товаров\n",
    "popular = data.groupby('item_id')['sales_value'].sum().reset_index()\n",
    "popular.sort_values('sales_value', ascending=False, inplace=True)\n",
    "# обнуляем веса \"по умолчанию\"\n",
    "popular['weight'] = 0\n",
    "# избегаем отрицательных весов, фильтруя значения меньше, чем основание логарифма\n",
    "popular['weight'] = np.log2(popular['sales_value'], where=popular['sales_value'] > 2)\n",
    "popular['weight'] = popular['weight'] / np.sum(popular['weight'])\n",
    "popular.head(5)"
   ]
  },
  {
   "cell_type": "code",
   "execution_count": 7,
   "metadata": {},
   "outputs": [
    {
     "name": "stdout",
     "output_type": "stream",
     "text": [
      "CPU times: user 1.77 s, sys: 6.05 ms, total: 1.78 s\n",
      "Wall time: 1.78 s\n"
     ]
    }
   ],
   "source": [
    "%%time\n",
    "\n",
    "result['weighted_random_recommendation'] = result['user_id'].apply(lambda x: \n",
    "                                                                   weighted_random_recommendation(popular, n=5))"
   ]
  },
  {
   "cell_type": "code",
   "execution_count": 8,
   "metadata": {},
   "outputs": [
    {
     "data": {
      "text/html": [
       "<div>\n",
       "<style scoped>\n",
       "    .dataframe tbody tr th:only-of-type {\n",
       "        vertical-align: middle;\n",
       "    }\n",
       "\n",
       "    .dataframe tbody tr th {\n",
       "        vertical-align: top;\n",
       "    }\n",
       "\n",
       "    .dataframe thead th {\n",
       "        text-align: right;\n",
       "    }\n",
       "</style>\n",
       "<table border=\"1\" class=\"dataframe\">\n",
       "  <thead>\n",
       "    <tr style=\"text-align: right;\">\n",
       "      <th></th>\n",
       "      <th>user_id</th>\n",
       "      <th>actual</th>\n",
       "      <th>weighted_random_recommendation</th>\n",
       "    </tr>\n",
       "  </thead>\n",
       "  <tbody>\n",
       "    <tr>\n",
       "      <th>0</th>\n",
       "      <td>1</td>\n",
       "      <td>[821867, 834484, 856942, 865456, 889248, 90795...</td>\n",
       "      <td>[15572855, 1126746, 883665, 13512301, 1044619]</td>\n",
       "    </tr>\n",
       "    <tr>\n",
       "      <th>1</th>\n",
       "      <td>3</td>\n",
       "      <td>[835476, 851057, 872021, 878302, 879948, 90963...</td>\n",
       "      <td>[959015, 1119667, 13007434, 894232, 12605078]</td>\n",
       "    </tr>\n",
       "  </tbody>\n",
       "</table>\n",
       "</div>"
      ],
      "text/plain": [
       "   user_id                                             actual  \\\n",
       "0        1  [821867, 834484, 856942, 865456, 889248, 90795...   \n",
       "1        3  [835476, 851057, 872021, 878302, 879948, 90963...   \n",
       "\n",
       "                   weighted_random_recommendation  \n",
       "0  [15572855, 1126746, 883665, 13512301, 1044619]  \n",
       "1   [959015, 1119667, 13007434, 894232, 12605078]  "
      ]
     },
     "execution_count": 8,
     "metadata": {},
     "output_type": "execute_result"
    }
   ],
   "source": [
    "result.head(2)"
   ]
  },
  {
   "cell_type": "markdown",
   "metadata": {
    "colab_type": "text",
    "id": "hyNG6O-wC8Y_"
   },
   "source": [
    "### Расчет метрик\n",
    "Рассчитаем Precision@5 для каждого алгоритма."
   ]
  },
  {
   "cell_type": "code",
   "execution_count": 9,
   "metadata": {
    "colab": {},
    "colab_type": "code",
    "id": "36HtRgm8C8ZA",
    "outputId": "971ccba1-6f06-4ac8-fd2d-10ba527e0fe5"
   },
   "outputs": [
    {
     "data": {
      "text/html": [
       "<div>\n",
       "<style scoped>\n",
       "    .dataframe tbody tr th:only-of-type {\n",
       "        vertical-align: middle;\n",
       "    }\n",
       "\n",
       "    .dataframe tbody tr th {\n",
       "        vertical-align: top;\n",
       "    }\n",
       "\n",
       "    .dataframe thead th {\n",
       "        text-align: right;\n",
       "    }\n",
       "</style>\n",
       "<table border=\"1\" class=\"dataframe\">\n",
       "  <thead>\n",
       "    <tr style=\"text-align: right;\">\n",
       "      <th></th>\n",
       "      <th>user_id</th>\n",
       "      <th>random_recommendation</th>\n",
       "      <th>popular_recommendation</th>\n",
       "      <th>itemitem</th>\n",
       "      <th>cosine</th>\n",
       "      <th>tfidf</th>\n",
       "      <th>own_purchases</th>\n",
       "    </tr>\n",
       "  </thead>\n",
       "  <tbody>\n",
       "    <tr>\n",
       "      <th>0</th>\n",
       "      <td>1</td>\n",
       "      <td>[8248916, 1126995, 2455202, 1081189, 6981521]</td>\n",
       "      <td>[6534178, 6533889, 1029743, 6534166, 1082185]</td>\n",
       "      <td>[6666, 1082185, 981760, 1127831, 995242]</td>\n",
       "      <td>[1082185, 6666, 981760, 1127831, 1098066]</td>\n",
       "      <td>[1082185, 981760, 1127831, 6666, 1098066]</td>\n",
       "      <td>[1082185, 995242, 1029743, 840361, 904360]</td>\n",
       "    </tr>\n",
       "    <tr>\n",
       "      <th>1</th>\n",
       "      <td>3</td>\n",
       "      <td>[16769451, 15830893, 1801587, 1082597, 614588]</td>\n",
       "      <td>[6534178, 6533889, 1029743, 6534166, 1082185]</td>\n",
       "      <td>[6666, 1082185, 981760, 1098066, 995242]</td>\n",
       "      <td>[1082185, 1098066, 981760, 6666, 826249]</td>\n",
       "      <td>[1082185, 981760, 1098066, 826249, 6666]</td>\n",
       "      <td>[1082185, 1098066, 6534178, 826249, 1127831]</td>\n",
       "    </tr>\n",
       "  </tbody>\n",
       "</table>\n",
       "</div>"
      ],
      "text/plain": [
       "   user_id                           random_recommendation  \\\n",
       "0        1   [8248916, 1126995, 2455202, 1081189, 6981521]   \n",
       "1        3  [16769451, 15830893, 1801587, 1082597, 614588]   \n",
       "\n",
       "                          popular_recommendation  \\\n",
       "0  [6534178, 6533889, 1029743, 6534166, 1082185]   \n",
       "1  [6534178, 6533889, 1029743, 6534166, 1082185]   \n",
       "\n",
       "                                   itemitem  \\\n",
       "0  [6666, 1082185, 981760, 1127831, 995242]   \n",
       "1  [6666, 1082185, 981760, 1098066, 995242]   \n",
       "\n",
       "                                      cosine  \\\n",
       "0  [1082185, 6666, 981760, 1127831, 1098066]   \n",
       "1   [1082185, 1098066, 981760, 6666, 826249]   \n",
       "\n",
       "                                       tfidf  \\\n",
       "0  [1082185, 981760, 1127831, 6666, 1098066]   \n",
       "1   [1082185, 981760, 1098066, 826249, 6666]   \n",
       "\n",
       "                                  own_purchases  \n",
       "0    [1082185, 995242, 1029743, 840361, 904360]  \n",
       "1  [1082185, 1098066, 6534178, 826249, 1127831]  "
      ]
     },
     "execution_count": 9,
     "metadata": {},
     "output_type": "execute_result"
    }
   ],
   "source": [
    "# загружаем предварительно сохраненные результаты из вебинара\n",
    "result_loaded = pd.read_csv('predictions_basic.csv')\n",
    "result_loaded.drop(columns=['actual'], inplace=True)\n",
    "result_loaded['user_id'] = result_loaded['user_id'].astype(dtype=np.int64)\n",
    "result_loaded.head(2)"
   ]
  },
  {
   "cell_type": "code",
   "execution_count": 10,
   "metadata": {},
   "outputs": [],
   "source": [
    "# поскольку рекомендации импортируются как строки, преобразуем их в список целых чисел\n",
    "for model in result_loaded.columns[1:]:\n",
    "    result_loaded[model] = result_loaded[model].apply(lambda x: list(map(int, x[1:-1].replace(',', '').split())))"
   ]
  },
  {
   "cell_type": "code",
   "execution_count": 11,
   "metadata": {},
   "outputs": [
    {
     "data": {
      "text/html": [
       "<div>\n",
       "<style scoped>\n",
       "    .dataframe tbody tr th:only-of-type {\n",
       "        vertical-align: middle;\n",
       "    }\n",
       "\n",
       "    .dataframe tbody tr th {\n",
       "        vertical-align: top;\n",
       "    }\n",
       "\n",
       "    .dataframe thead th {\n",
       "        text-align: right;\n",
       "    }\n",
       "</style>\n",
       "<table border=\"1\" class=\"dataframe\">\n",
       "  <thead>\n",
       "    <tr style=\"text-align: right;\">\n",
       "      <th></th>\n",
       "      <th>user_id</th>\n",
       "      <th>actual</th>\n",
       "      <th>weighted_random_recommendation</th>\n",
       "      <th>random_recommendation</th>\n",
       "      <th>popular_recommendation</th>\n",
       "      <th>itemitem</th>\n",
       "      <th>cosine</th>\n",
       "      <th>tfidf</th>\n",
       "      <th>own_purchases</th>\n",
       "    </tr>\n",
       "  </thead>\n",
       "  <tbody>\n",
       "    <tr>\n",
       "      <th>0</th>\n",
       "      <td>1</td>\n",
       "      <td>[821867, 834484, 856942, 865456, 889248, 90795...</td>\n",
       "      <td>[15572855, 1126746, 883665, 13512301, 1044619]</td>\n",
       "      <td>[8248916, 1126995, 2455202, 1081189, 6981521]</td>\n",
       "      <td>[6534178, 6533889, 1029743, 6534166, 1082185]</td>\n",
       "      <td>[6666, 1082185, 981760, 1127831, 995242]</td>\n",
       "      <td>[1082185, 6666, 981760, 1127831, 1098066]</td>\n",
       "      <td>[1082185, 981760, 1127831, 6666, 1098066]</td>\n",
       "      <td>[1082185, 995242, 1029743, 840361, 904360]</td>\n",
       "    </tr>\n",
       "    <tr>\n",
       "      <th>1</th>\n",
       "      <td>3</td>\n",
       "      <td>[835476, 851057, 872021, 878302, 879948, 90963...</td>\n",
       "      <td>[959015, 1119667, 13007434, 894232, 12605078]</td>\n",
       "      <td>[16769451, 15830893, 1801587, 1082597, 614588]</td>\n",
       "      <td>[6534178, 6533889, 1029743, 6534166, 1082185]</td>\n",
       "      <td>[6666, 1082185, 981760, 1098066, 995242]</td>\n",
       "      <td>[1082185, 1098066, 981760, 6666, 826249]</td>\n",
       "      <td>[1082185, 981760, 1098066, 826249, 6666]</td>\n",
       "      <td>[1082185, 1098066, 6534178, 826249, 1127831]</td>\n",
       "    </tr>\n",
       "  </tbody>\n",
       "</table>\n",
       "</div>"
      ],
      "text/plain": [
       "   user_id                                             actual  \\\n",
       "0        1  [821867, 834484, 856942, 865456, 889248, 90795...   \n",
       "1        3  [835476, 851057, 872021, 878302, 879948, 90963...   \n",
       "\n",
       "                   weighted_random_recommendation  \\\n",
       "0  [15572855, 1126746, 883665, 13512301, 1044619]   \n",
       "1   [959015, 1119667, 13007434, 894232, 12605078]   \n",
       "\n",
       "                            random_recommendation  \\\n",
       "0   [8248916, 1126995, 2455202, 1081189, 6981521]   \n",
       "1  [16769451, 15830893, 1801587, 1082597, 614588]   \n",
       "\n",
       "                          popular_recommendation  \\\n",
       "0  [6534178, 6533889, 1029743, 6534166, 1082185]   \n",
       "1  [6534178, 6533889, 1029743, 6534166, 1082185]   \n",
       "\n",
       "                                   itemitem  \\\n",
       "0  [6666, 1082185, 981760, 1127831, 995242]   \n",
       "1  [6666, 1082185, 981760, 1098066, 995242]   \n",
       "\n",
       "                                      cosine  \\\n",
       "0  [1082185, 6666, 981760, 1127831, 1098066]   \n",
       "1   [1082185, 1098066, 981760, 6666, 826249]   \n",
       "\n",
       "                                       tfidf  \\\n",
       "0  [1082185, 981760, 1127831, 6666, 1098066]   \n",
       "1   [1082185, 981760, 1098066, 826249, 6666]   \n",
       "\n",
       "                                  own_purchases  \n",
       "0    [1082185, 995242, 1029743, 840361, 904360]  \n",
       "1  [1082185, 1098066, 6534178, 826249, 1127831]  "
      ]
     },
     "execution_count": 11,
     "metadata": {},
     "output_type": "execute_result"
    }
   ],
   "source": [
    "# объединим загруженные результаты с результатом weighted_random_recommendation\n",
    "result = result.merge(result_loaded, on='user_id')\n",
    "result.head(2)"
   ]
  },
  {
   "cell_type": "code",
   "execution_count": 12,
   "metadata": {},
   "outputs": [],
   "source": [
    "def show_metrics(recommendation, metric):\n",
    "    \"\"\"Функция расчета метрик\n",
    "    \n",
    "    Input\n",
    "    -----\n",
    "    recommendation: pd.DataFrame\n",
    "        Датафрейм со столбцами user_id, actual, любое количество наименований_моделей_рекомендаций\n",
    "    metric: function\n",
    "        Функция расчета метрики         \n",
    "    \"\"\"\n",
    "    results = {model: recommendation.apply(lambda row: metric(row[model], row['actual']), axis=1).mean() \n",
    "           for model in recommendation.columns[2:]}\n",
    "\n",
    "    results = pd.DataFrame(results, index = ['precision@5'])\n",
    "    \n",
    "    return results.T.sort_values(by=['precision@5'], ascending=False)"
   ]
  },
  {
   "cell_type": "code",
   "execution_count": 13,
   "metadata": {},
   "outputs": [
    {
     "name": "stderr",
     "output_type": "stream",
     "text": [
      "/Users/nikolayzhukov/DS/RecSys/hw2/metrics.py:20: RuntimeWarning: invalid value encountered in long_scalars\n",
      "  return flags.sum() / len(recommended_list)\n"
     ]
    },
    {
     "data": {
      "text/html": [
       "<div>\n",
       "<style scoped>\n",
       "    .dataframe tbody tr th:only-of-type {\n",
       "        vertical-align: middle;\n",
       "    }\n",
       "\n",
       "    .dataframe tbody tr th {\n",
       "        vertical-align: top;\n",
       "    }\n",
       "\n",
       "    .dataframe thead th {\n",
       "        text-align: right;\n",
       "    }\n",
       "</style>\n",
       "<table border=\"1\" class=\"dataframe\">\n",
       "  <thead>\n",
       "    <tr style=\"text-align: right;\">\n",
       "      <th></th>\n",
       "      <th>precision@5</th>\n",
       "    </tr>\n",
       "  </thead>\n",
       "  <tbody>\n",
       "    <tr>\n",
       "      <th>own_purchases</th>\n",
       "      <td>0.219858</td>\n",
       "    </tr>\n",
       "    <tr>\n",
       "      <th>popular_recommendation</th>\n",
       "      <td>0.155240</td>\n",
       "    </tr>\n",
       "    <tr>\n",
       "      <th>tfidf</th>\n",
       "      <td>0.138981</td>\n",
       "    </tr>\n",
       "    <tr>\n",
       "      <th>itemitem</th>\n",
       "      <td>0.136827</td>\n",
       "    </tr>\n",
       "    <tr>\n",
       "      <th>cosine</th>\n",
       "      <td>0.132909</td>\n",
       "    </tr>\n",
       "    <tr>\n",
       "      <th>weighted_random_recommendation</th>\n",
       "      <td>0.001175</td>\n",
       "    </tr>\n",
       "    <tr>\n",
       "      <th>random_recommendation</th>\n",
       "      <td>0.000784</td>\n",
       "    </tr>\n",
       "  </tbody>\n",
       "</table>\n",
       "</div>"
      ],
      "text/plain": [
       "                                precision@5\n",
       "own_purchases                      0.219858\n",
       "popular_recommendation             0.155240\n",
       "tfidf                              0.138981\n",
       "itemitem                           0.136827\n",
       "cosine                             0.132909\n",
       "weighted_random_recommendation     0.001175\n",
       "random_recommendation              0.000784"
      ]
     },
     "execution_count": 13,
     "metadata": {},
     "output_type": "execute_result"
    }
   ],
   "source": [
    "# проверяем метрики\n",
    "show_metrics(result, precision_at_k)"
   ]
  },
  {
   "cell_type": "markdown",
   "metadata": {},
   "source": [
    "Лучший результат у own_purchases, weighted_random_recommendation немного лучше random_recommendation."
   ]
  },
  {
   "cell_type": "markdown",
   "metadata": {
    "colab_type": "text",
    "id": "igDU0j1cC8ZH"
   },
   "source": [
    "### Задание 2. Улучшение бейзлайнов и ItemItem"
   ]
  },
  {
   "cell_type": "markdown",
   "metadata": {},
   "source": [
    "**Попробуйте улучшить бейзлайны, считая случайный на топ-5000 товаров**"
   ]
  },
  {
   "cell_type": "code",
   "execution_count": 14,
   "metadata": {},
   "outputs": [
    {
     "data": {
      "text/html": [
       "<div>\n",
       "<style scoped>\n",
       "    .dataframe tbody tr th:only-of-type {\n",
       "        vertical-align: middle;\n",
       "    }\n",
       "\n",
       "    .dataframe tbody tr th {\n",
       "        vertical-align: top;\n",
       "    }\n",
       "\n",
       "    .dataframe thead th {\n",
       "        text-align: right;\n",
       "    }\n",
       "</style>\n",
       "<table border=\"1\" class=\"dataframe\">\n",
       "  <thead>\n",
       "    <tr style=\"text-align: right;\">\n",
       "      <th></th>\n",
       "      <th>item_id</th>\n",
       "      <th>n_sold</th>\n",
       "    </tr>\n",
       "  </thead>\n",
       "  <tbody>\n",
       "    <tr>\n",
       "      <th>0</th>\n",
       "      <td>25671</td>\n",
       "      <td>6</td>\n",
       "    </tr>\n",
       "    <tr>\n",
       "      <th>1</th>\n",
       "      <td>26081</td>\n",
       "      <td>1</td>\n",
       "    </tr>\n",
       "    <tr>\n",
       "      <th>2</th>\n",
       "      <td>26093</td>\n",
       "      <td>1</td>\n",
       "    </tr>\n",
       "    <tr>\n",
       "      <th>3</th>\n",
       "      <td>26190</td>\n",
       "      <td>1</td>\n",
       "    </tr>\n",
       "    <tr>\n",
       "      <th>4</th>\n",
       "      <td>26355</td>\n",
       "      <td>2</td>\n",
       "    </tr>\n",
       "  </tbody>\n",
       "</table>\n",
       "</div>"
      ],
      "text/plain": [
       "   item_id  n_sold\n",
       "0    25671       6\n",
       "1    26081       1\n",
       "2    26093       1\n",
       "3    26190       1\n",
       "4    26355       2"
      ]
     },
     "execution_count": 14,
     "metadata": {},
     "output_type": "execute_result"
    }
   ],
   "source": [
    "popularity = data_train.groupby('item_id')['quantity'].sum().reset_index()\n",
    "popularity.rename(columns={'quantity': 'n_sold'}, inplace=True)\n",
    "\n",
    "popularity.head()"
   ]
  },
  {
   "cell_type": "code",
   "execution_count": 15,
   "metadata": {},
   "outputs": [],
   "source": [
    "top_5000 = popularity.sort_values('n_sold', ascending=False).head(5000).item_id.tolist()"
   ]
  },
  {
   "cell_type": "code",
   "execution_count": 16,
   "metadata": {},
   "outputs": [
    {
     "name": "stdout",
     "output_type": "stream",
     "text": [
      "CPU times: user 759 ms, sys: 3.33 ms, total: 762 ms\n",
      "Wall time: 765 ms\n"
     ]
    }
   ],
   "source": [
    "%%time\n",
    "result['random_recommendation_top_5000'] = result['user_id'].apply(lambda x: \n",
    "                                                                   random_recommendation(top_5000, n=5))"
   ]
  },
  {
   "cell_type": "code",
   "execution_count": 17,
   "metadata": {
    "scrolled": true
   },
   "outputs": [
    {
     "name": "stderr",
     "output_type": "stream",
     "text": [
      "/Users/nikolayzhukov/DS/RecSys/hw2/metrics.py:20: RuntimeWarning: invalid value encountered in long_scalars\n",
      "  return flags.sum() / len(recommended_list)\n"
     ]
    },
    {
     "data": {
      "text/html": [
       "<div>\n",
       "<style scoped>\n",
       "    .dataframe tbody tr th:only-of-type {\n",
       "        vertical-align: middle;\n",
       "    }\n",
       "\n",
       "    .dataframe tbody tr th {\n",
       "        vertical-align: top;\n",
       "    }\n",
       "\n",
       "    .dataframe thead th {\n",
       "        text-align: right;\n",
       "    }\n",
       "</style>\n",
       "<table border=\"1\" class=\"dataframe\">\n",
       "  <thead>\n",
       "    <tr style=\"text-align: right;\">\n",
       "      <th></th>\n",
       "      <th>precision@5</th>\n",
       "    </tr>\n",
       "  </thead>\n",
       "  <tbody>\n",
       "    <tr>\n",
       "      <th>own_purchases</th>\n",
       "      <td>0.219858</td>\n",
       "    </tr>\n",
       "    <tr>\n",
       "      <th>popular_recommendation</th>\n",
       "      <td>0.155240</td>\n",
       "    </tr>\n",
       "    <tr>\n",
       "      <th>tfidf</th>\n",
       "      <td>0.138981</td>\n",
       "    </tr>\n",
       "    <tr>\n",
       "      <th>itemitem</th>\n",
       "      <td>0.136827</td>\n",
       "    </tr>\n",
       "    <tr>\n",
       "      <th>cosine</th>\n",
       "      <td>0.132909</td>\n",
       "    </tr>\n",
       "    <tr>\n",
       "      <th>random_recommendation_top_5000</th>\n",
       "      <td>0.005877</td>\n",
       "    </tr>\n",
       "    <tr>\n",
       "      <th>weighted_random_recommendation</th>\n",
       "      <td>0.001175</td>\n",
       "    </tr>\n",
       "    <tr>\n",
       "      <th>random_recommendation</th>\n",
       "      <td>0.000784</td>\n",
       "    </tr>\n",
       "  </tbody>\n",
       "</table>\n",
       "</div>"
      ],
      "text/plain": [
       "                                precision@5\n",
       "own_purchases                      0.219858\n",
       "popular_recommendation             0.155240\n",
       "tfidf                              0.138981\n",
       "itemitem                           0.136827\n",
       "cosine                             0.132909\n",
       "random_recommendation_top_5000     0.005877\n",
       "weighted_random_recommendation     0.001175\n",
       "random_recommendation              0.000784"
      ]
     },
     "execution_count": 17,
     "metadata": {},
     "output_type": "execute_result"
    }
   ],
   "source": [
    "# проверяем метрики\n",
    "show_metrics(result, precision_at_k)"
   ]
  },
  {
   "cell_type": "markdown",
   "metadata": {},
   "source": [
    "Результат действительно улучшился"
   ]
  },
  {
   "cell_type": "markdown",
   "metadata": {},
   "source": [
    "**Попробуйте улучшить разные варианты ItemItemRecommender, выбирая число соседей $K$.**"
   ]
  },
  {
   "cell_type": "code",
   "execution_count": 18,
   "metadata": {},
   "outputs": [
    {
     "name": "stderr",
     "output_type": "stream",
     "text": [
      "/Users/nikolayzhukov/opt/anaconda3/lib/python3.8/site-packages/pandas/core/indexing.py:1765: SettingWithCopyWarning: \n",
      "A value is trying to be set on a copy of a slice from a DataFrame.\n",
      "Try using .loc[row_indexer,col_indexer] = value instead\n",
      "\n",
      "See the caveats in the documentation: https://pandas.pydata.org/pandas-docs/stable/user_guide/indexing.html#returning-a-view-versus-a-copy\n",
      "  isetter(loc, value)\n"
     ]
    }
   ],
   "source": [
    "data_train.loc[~data_train['item_id'].isin(top_5000), 'item_id'] = 6666"
   ]
  },
  {
   "cell_type": "code",
   "execution_count": 19,
   "metadata": {},
   "outputs": [
    {
     "data": {
      "text/html": [
       "<div>\n",
       "<style scoped>\n",
       "    .dataframe tbody tr th:only-of-type {\n",
       "        vertical-align: middle;\n",
       "    }\n",
       "\n",
       "    .dataframe tbody tr th {\n",
       "        vertical-align: top;\n",
       "    }\n",
       "\n",
       "    .dataframe thead th {\n",
       "        text-align: right;\n",
       "    }\n",
       "</style>\n",
       "<table border=\"1\" class=\"dataframe\">\n",
       "  <thead>\n",
       "    <tr style=\"text-align: right;\">\n",
       "      <th>item_id</th>\n",
       "      <th>6666</th>\n",
       "      <th>202291</th>\n",
       "      <th>397896</th>\n",
       "      <th>420647</th>\n",
       "      <th>480014</th>\n",
       "      <th>545926</th>\n",
       "      <th>707683</th>\n",
       "      <th>731106</th>\n",
       "      <th>818980</th>\n",
       "      <th>819063</th>\n",
       "      <th>...</th>\n",
       "      <th>15778533</th>\n",
       "      <th>15831255</th>\n",
       "      <th>15926712</th>\n",
       "      <th>15926775</th>\n",
       "      <th>15926844</th>\n",
       "      <th>15926886</th>\n",
       "      <th>15927403</th>\n",
       "      <th>15927661</th>\n",
       "      <th>15927850</th>\n",
       "      <th>16809471</th>\n",
       "    </tr>\n",
       "    <tr>\n",
       "      <th>user_id</th>\n",
       "      <th></th>\n",
       "      <th></th>\n",
       "      <th></th>\n",
       "      <th></th>\n",
       "      <th></th>\n",
       "      <th></th>\n",
       "      <th></th>\n",
       "      <th></th>\n",
       "      <th></th>\n",
       "      <th></th>\n",
       "      <th></th>\n",
       "      <th></th>\n",
       "      <th></th>\n",
       "      <th></th>\n",
       "      <th></th>\n",
       "      <th></th>\n",
       "      <th></th>\n",
       "      <th></th>\n",
       "      <th></th>\n",
       "      <th></th>\n",
       "      <th></th>\n",
       "    </tr>\n",
       "  </thead>\n",
       "  <tbody>\n",
       "    <tr>\n",
       "      <th>1</th>\n",
       "      <td>1.0</td>\n",
       "      <td>0.0</td>\n",
       "      <td>0.0</td>\n",
       "      <td>0.0</td>\n",
       "      <td>0.0</td>\n",
       "      <td>0.0</td>\n",
       "      <td>0.0</td>\n",
       "      <td>0.0</td>\n",
       "      <td>0.0</td>\n",
       "      <td>0.0</td>\n",
       "      <td>...</td>\n",
       "      <td>0.0</td>\n",
       "      <td>0.0</td>\n",
       "      <td>0.0</td>\n",
       "      <td>0.0</td>\n",
       "      <td>1.0</td>\n",
       "      <td>0.0</td>\n",
       "      <td>0.0</td>\n",
       "      <td>0.0</td>\n",
       "      <td>0.0</td>\n",
       "      <td>0.0</td>\n",
       "    </tr>\n",
       "    <tr>\n",
       "      <th>2</th>\n",
       "      <td>1.0</td>\n",
       "      <td>0.0</td>\n",
       "      <td>0.0</td>\n",
       "      <td>0.0</td>\n",
       "      <td>0.0</td>\n",
       "      <td>0.0</td>\n",
       "      <td>0.0</td>\n",
       "      <td>0.0</td>\n",
       "      <td>0.0</td>\n",
       "      <td>0.0</td>\n",
       "      <td>...</td>\n",
       "      <td>0.0</td>\n",
       "      <td>0.0</td>\n",
       "      <td>0.0</td>\n",
       "      <td>0.0</td>\n",
       "      <td>0.0</td>\n",
       "      <td>0.0</td>\n",
       "      <td>0.0</td>\n",
       "      <td>0.0</td>\n",
       "      <td>0.0</td>\n",
       "      <td>0.0</td>\n",
       "    </tr>\n",
       "    <tr>\n",
       "      <th>3</th>\n",
       "      <td>1.0</td>\n",
       "      <td>0.0</td>\n",
       "      <td>0.0</td>\n",
       "      <td>0.0</td>\n",
       "      <td>0.0</td>\n",
       "      <td>0.0</td>\n",
       "      <td>0.0</td>\n",
       "      <td>0.0</td>\n",
       "      <td>0.0</td>\n",
       "      <td>0.0</td>\n",
       "      <td>...</td>\n",
       "      <td>0.0</td>\n",
       "      <td>0.0</td>\n",
       "      <td>0.0</td>\n",
       "      <td>0.0</td>\n",
       "      <td>0.0</td>\n",
       "      <td>0.0</td>\n",
       "      <td>0.0</td>\n",
       "      <td>0.0</td>\n",
       "      <td>0.0</td>\n",
       "      <td>0.0</td>\n",
       "    </tr>\n",
       "  </tbody>\n",
       "</table>\n",
       "<p>3 rows × 5001 columns</p>\n",
       "</div>"
      ],
      "text/plain": [
       "item_id  6666      202291    397896    420647    480014    545926    707683    \\\n",
       "user_id                                                                         \n",
       "1             1.0       0.0       0.0       0.0       0.0       0.0       0.0   \n",
       "2             1.0       0.0       0.0       0.0       0.0       0.0       0.0   \n",
       "3             1.0       0.0       0.0       0.0       0.0       0.0       0.0   \n",
       "\n",
       "item_id  731106    818980    819063    ...  15778533  15831255  15926712  \\\n",
       "user_id                                ...                                 \n",
       "1             0.0       0.0       0.0  ...       0.0       0.0       0.0   \n",
       "2             0.0       0.0       0.0  ...       0.0       0.0       0.0   \n",
       "3             0.0       0.0       0.0  ...       0.0       0.0       0.0   \n",
       "\n",
       "item_id  15926775  15926844  15926886  15927403  15927661  15927850  16809471  \n",
       "user_id                                                                        \n",
       "1             0.0       1.0       0.0       0.0       0.0       0.0       0.0  \n",
       "2             0.0       0.0       0.0       0.0       0.0       0.0       0.0  \n",
       "3             0.0       0.0       0.0       0.0       0.0       0.0       0.0  \n",
       "\n",
       "[3 rows x 5001 columns]"
      ]
     },
     "execution_count": 19,
     "metadata": {},
     "output_type": "execute_result"
    }
   ],
   "source": [
    "user_item_matrix = pd.pivot_table(data_train, \n",
    "                                  index='user_id', \n",
    "                                  columns='item_id', \n",
    "                                  values='quantity',\n",
    "                                  aggfunc='count', \n",
    "                                  fill_value=0\n",
    "                                 )\n",
    "\n",
    "user_item_matrix[user_item_matrix > 0] = 1 # так как в итоге хотим предсказать \n",
    "user_item_matrix = user_item_matrix.astype(float) # необходимый тип матрицы для implicit\n",
    "\n",
    "# переведем в формат saprse matrix\n",
    "sparse_user_item = csr_matrix(user_item_matrix).tocsr()\n",
    "\n",
    "user_item_matrix.head(3)"
   ]
  },
  {
   "cell_type": "code",
   "execution_count": 20,
   "metadata": {},
   "outputs": [],
   "source": [
    "userids = user_item_matrix.index.values\n",
    "itemids = user_item_matrix.columns.values\n",
    "\n",
    "matrix_userids = np.arange(len(userids))\n",
    "matrix_itemids = np.arange(len(itemids))\n",
    "\n",
    "id_to_itemid = dict(zip(matrix_itemids, itemids))\n",
    "id_to_userid = dict(zip(matrix_userids, userids))\n",
    "\n",
    "itemid_to_id = dict(zip(itemids, matrix_itemids))\n",
    "userid_to_id = dict(zip(userids, matrix_userids))"
   ]
  },
  {
   "cell_type": "markdown",
   "metadata": {},
   "source": [
    "**Обучаем модели для K от 2 до 11. Результат для K=1 не проверяем, т.к. это аналог own_purchases**"
   ]
  },
  {
   "cell_type": "code",
   "execution_count": 21,
   "metadata": {},
   "outputs": [],
   "source": [
    "k_step = np.arange(2, 12)"
   ]
  },
  {
   "cell_type": "code",
   "execution_count": 22,
   "metadata": {},
   "outputs": [
    {
     "data": {
      "application/vnd.jupyter.widget-view+json": {
       "model_id": "02050eaf77f14352a5a8da5dad46e77c",
       "version_major": 2,
       "version_minor": 0
      },
      "text/plain": [
       "HBox(children=(HTML(value=''), FloatProgress(value=0.0, max=5001.0), HTML(value='')))"
      ]
     },
     "metadata": {},
     "output_type": "display_data"
    },
    {
     "name": "stdout",
     "output_type": "stream",
     "text": [
      "\n"
     ]
    },
    {
     "data": {
      "application/vnd.jupyter.widget-view+json": {
       "model_id": "08f90fb21f43495cb3377b02c51b89f3",
       "version_major": 2,
       "version_minor": 0
      },
      "text/plain": [
       "HBox(children=(HTML(value=''), FloatProgress(value=0.0, max=5001.0), HTML(value='')))"
      ]
     },
     "metadata": {},
     "output_type": "display_data"
    },
    {
     "name": "stdout",
     "output_type": "stream",
     "text": [
      "\n"
     ]
    },
    {
     "data": {
      "application/vnd.jupyter.widget-view+json": {
       "model_id": "acc7b510d429490c9ef7ef9d53b6af5a",
       "version_major": 2,
       "version_minor": 0
      },
      "text/plain": [
       "HBox(children=(HTML(value=''), FloatProgress(value=0.0, max=5001.0), HTML(value='')))"
      ]
     },
     "metadata": {},
     "output_type": "display_data"
    },
    {
     "name": "stdout",
     "output_type": "stream",
     "text": [
      "\n"
     ]
    },
    {
     "data": {
      "application/vnd.jupyter.widget-view+json": {
       "model_id": "d6443ffc9a1742da9b56e244d50b3730",
       "version_major": 2,
       "version_minor": 0
      },
      "text/plain": [
       "HBox(children=(HTML(value=''), FloatProgress(value=0.0, max=5001.0), HTML(value='')))"
      ]
     },
     "metadata": {},
     "output_type": "display_data"
    },
    {
     "name": "stdout",
     "output_type": "stream",
     "text": [
      "\n"
     ]
    },
    {
     "data": {
      "application/vnd.jupyter.widget-view+json": {
       "model_id": "5a67aa4659b647cfb36e96f5ac5c7a9a",
       "version_major": 2,
       "version_minor": 0
      },
      "text/plain": [
       "HBox(children=(HTML(value=''), FloatProgress(value=0.0, max=5001.0), HTML(value='')))"
      ]
     },
     "metadata": {},
     "output_type": "display_data"
    },
    {
     "name": "stdout",
     "output_type": "stream",
     "text": [
      "\n"
     ]
    },
    {
     "data": {
      "application/vnd.jupyter.widget-view+json": {
       "model_id": "52c8748028794552b9467909fb0d8c69",
       "version_major": 2,
       "version_minor": 0
      },
      "text/plain": [
       "HBox(children=(HTML(value=''), FloatProgress(value=0.0, max=5001.0), HTML(value='')))"
      ]
     },
     "metadata": {},
     "output_type": "display_data"
    },
    {
     "name": "stdout",
     "output_type": "stream",
     "text": [
      "\n"
     ]
    },
    {
     "data": {
      "application/vnd.jupyter.widget-view+json": {
       "model_id": "25962b6aa39c4dc4897854aafede195e",
       "version_major": 2,
       "version_minor": 0
      },
      "text/plain": [
       "HBox(children=(HTML(value=''), FloatProgress(value=0.0, max=5001.0), HTML(value='')))"
      ]
     },
     "metadata": {},
     "output_type": "display_data"
    },
    {
     "name": "stdout",
     "output_type": "stream",
     "text": [
      "\n"
     ]
    },
    {
     "data": {
      "application/vnd.jupyter.widget-view+json": {
       "model_id": "0f1673c8c03d4168ab5a3ae313308af4",
       "version_major": 2,
       "version_minor": 0
      },
      "text/plain": [
       "HBox(children=(HTML(value=''), FloatProgress(value=0.0, max=5001.0), HTML(value='')))"
      ]
     },
     "metadata": {},
     "output_type": "display_data"
    },
    {
     "name": "stdout",
     "output_type": "stream",
     "text": [
      "\n"
     ]
    },
    {
     "data": {
      "application/vnd.jupyter.widget-view+json": {
       "model_id": "3c01eb88be5945aa95e6679cae119390",
       "version_major": 2,
       "version_minor": 0
      },
      "text/plain": [
       "HBox(children=(HTML(value=''), FloatProgress(value=0.0, max=5001.0), HTML(value='')))"
      ]
     },
     "metadata": {},
     "output_type": "display_data"
    },
    {
     "name": "stdout",
     "output_type": "stream",
     "text": [
      "\n"
     ]
    },
    {
     "data": {
      "application/vnd.jupyter.widget-view+json": {
       "model_id": "5b0e1f8a1d564b3fa2bfa1f610d033f9",
       "version_major": 2,
       "version_minor": 0
      },
      "text/plain": [
       "HBox(children=(HTML(value=''), FloatProgress(value=0.0, max=5001.0), HTML(value='')))"
      ]
     },
     "metadata": {},
     "output_type": "display_data"
    },
    {
     "name": "stdout",
     "output_type": "stream",
     "text": [
      "\n",
      "CPU times: user 12.8 s, sys: 170 ms, total: 12.9 s\n",
      "Wall time: 13 s\n"
     ]
    }
   ],
   "source": [
    "%%time\n",
    "itemitem_models_list = []\n",
    "for k in k_step:\n",
    "    model = ItemItemRecommender(K=k, num_threads=4) # K - кол-во ближайших соседей\n",
    "\n",
    "    model.fit(csr_matrix(user_item_matrix).T.tocsr(),  # На вход item-user matrix\n",
    "              show_progress=True)\n",
    "    itemitem_models_list.append((k, model))"
   ]
  },
  {
   "cell_type": "code",
   "execution_count": 23,
   "metadata": {},
   "outputs": [],
   "source": [
    "for k, model in itemitem_models_list:\n",
    "    result['itemitem_K_' + str(k)] = result['user_id'].\\\n",
    "        apply(lambda x: [id_to_itemid[rec[0]] for rec in \n",
    "                        model.recommend(userid=userid_to_id[x], \n",
    "                                        user_items=sparse_user_item,   # на вход user-item matrix\n",
    "                                        N=5, \n",
    "                                        filter_already_liked_items=False, \n",
    "                                        filter_items=[itemid_to_id[6666]], # фильтруем непопулярные товары\n",
    "                                        recalculate_user=True)])"
   ]
  },
  {
   "cell_type": "code",
   "execution_count": 24,
   "metadata": {
    "scrolled": true
   },
   "outputs": [
    {
     "data": {
      "text/html": [
       "<div>\n",
       "<style scoped>\n",
       "    .dataframe tbody tr th:only-of-type {\n",
       "        vertical-align: middle;\n",
       "    }\n",
       "\n",
       "    .dataframe tbody tr th {\n",
       "        vertical-align: top;\n",
       "    }\n",
       "\n",
       "    .dataframe thead th {\n",
       "        text-align: right;\n",
       "    }\n",
       "</style>\n",
       "<table border=\"1\" class=\"dataframe\">\n",
       "  <thead>\n",
       "    <tr style=\"text-align: right;\">\n",
       "      <th></th>\n",
       "      <th>user_id</th>\n",
       "      <th>actual</th>\n",
       "      <th>weighted_random_recommendation</th>\n",
       "      <th>random_recommendation</th>\n",
       "      <th>popular_recommendation</th>\n",
       "      <th>itemitem</th>\n",
       "      <th>cosine</th>\n",
       "      <th>tfidf</th>\n",
       "      <th>own_purchases</th>\n",
       "      <th>random_recommendation_top_5000</th>\n",
       "      <th>itemitem_K_2</th>\n",
       "      <th>itemitem_K_3</th>\n",
       "      <th>itemitem_K_4</th>\n",
       "      <th>itemitem_K_5</th>\n",
       "      <th>itemitem_K_6</th>\n",
       "      <th>itemitem_K_7</th>\n",
       "      <th>itemitem_K_8</th>\n",
       "      <th>itemitem_K_9</th>\n",
       "      <th>itemitem_K_10</th>\n",
       "      <th>itemitem_K_11</th>\n",
       "    </tr>\n",
       "  </thead>\n",
       "  <tbody>\n",
       "    <tr>\n",
       "      <th>0</th>\n",
       "      <td>1</td>\n",
       "      <td>[821867, 834484, 856942, 865456, 889248, 90795...</td>\n",
       "      <td>[15572855, 1126746, 883665, 13512301, 1044619]</td>\n",
       "      <td>[8248916, 1126995, 2455202, 1081189, 6981521]</td>\n",
       "      <td>[6534178, 6533889, 1029743, 6534166, 1082185]</td>\n",
       "      <td>[6666, 1082185, 981760, 1127831, 995242]</td>\n",
       "      <td>[1082185, 6666, 981760, 1127831, 1098066]</td>\n",
       "      <td>[1082185, 981760, 1127831, 6666, 1098066]</td>\n",
       "      <td>[1082185, 995242, 1029743, 840361, 904360]</td>\n",
       "      <td>[977432, 12349795, 1070803, 6034964, 1046465]</td>\n",
       "      <td>[1082185, 995242, 1029743, 840361, 904360]</td>\n",
       "      <td>[1082185, 981760, 995242, 1029743, 840361]</td>\n",
       "      <td>[1082185, 981760, 995242, 1127831, 840361]</td>\n",
       "      <td>[1082185, 981760, 1127831, 995242, 1098066]</td>\n",
       "      <td>[1082185, 981760, 1127831, 995242, 840361]</td>\n",
       "      <td>[1082185, 981760, 995242, 840361, 1127831]</td>\n",
       "      <td>[1082185, 981760, 995242, 840361, 1127831]</td>\n",
       "      <td>[1082185, 981760, 995242, 840361, 1127831]</td>\n",
       "      <td>[1082185, 981760, 995242, 840361, 1127831]</td>\n",
       "      <td>[1082185, 981760, 995242, 840361, 1127831]</td>\n",
       "    </tr>\n",
       "    <tr>\n",
       "      <th>1</th>\n",
       "      <td>3</td>\n",
       "      <td>[835476, 851057, 872021, 878302, 879948, 90963...</td>\n",
       "      <td>[959015, 1119667, 13007434, 894232, 12605078]</td>\n",
       "      <td>[16769451, 15830893, 1801587, 1082597, 614588]</td>\n",
       "      <td>[6534178, 6533889, 1029743, 6534166, 1082185]</td>\n",
       "      <td>[6666, 1082185, 981760, 1098066, 995242]</td>\n",
       "      <td>[1082185, 1098066, 981760, 6666, 826249]</td>\n",
       "      <td>[1082185, 981760, 1098066, 826249, 6666]</td>\n",
       "      <td>[1082185, 1098066, 6534178, 826249, 1127831]</td>\n",
       "      <td>[8015407, 829001, 836286, 935993, 1044724]</td>\n",
       "      <td>[1082185, 1098066, 6534178, 826249, 1127831]</td>\n",
       "      <td>[1082185, 981760, 1098066, 6534178, 826249]</td>\n",
       "      <td>[1082185, 981760, 1098066, 826249, 995242]</td>\n",
       "      <td>[1082185, 981760, 1098066, 995242, 826249]</td>\n",
       "      <td>[1082185, 981760, 1098066, 826249, 995242]</td>\n",
       "      <td>[1082185, 981760, 1098066, 826249, 995242]</td>\n",
       "      <td>[1082185, 981760, 1098066, 826249, 995242]</td>\n",
       "      <td>[1082185, 981760, 1098066, 826249, 995242]</td>\n",
       "      <td>[1082185, 981760, 1098066, 826249, 995242]</td>\n",
       "      <td>[1082185, 981760, 1098066, 826249, 995242]</td>\n",
       "    </tr>\n",
       "  </tbody>\n",
       "</table>\n",
       "</div>"
      ],
      "text/plain": [
       "   user_id                                             actual  \\\n",
       "0        1  [821867, 834484, 856942, 865456, 889248, 90795...   \n",
       "1        3  [835476, 851057, 872021, 878302, 879948, 90963...   \n",
       "\n",
       "                   weighted_random_recommendation  \\\n",
       "0  [15572855, 1126746, 883665, 13512301, 1044619]   \n",
       "1   [959015, 1119667, 13007434, 894232, 12605078]   \n",
       "\n",
       "                            random_recommendation  \\\n",
       "0   [8248916, 1126995, 2455202, 1081189, 6981521]   \n",
       "1  [16769451, 15830893, 1801587, 1082597, 614588]   \n",
       "\n",
       "                          popular_recommendation  \\\n",
       "0  [6534178, 6533889, 1029743, 6534166, 1082185]   \n",
       "1  [6534178, 6533889, 1029743, 6534166, 1082185]   \n",
       "\n",
       "                                   itemitem  \\\n",
       "0  [6666, 1082185, 981760, 1127831, 995242]   \n",
       "1  [6666, 1082185, 981760, 1098066, 995242]   \n",
       "\n",
       "                                      cosine  \\\n",
       "0  [1082185, 6666, 981760, 1127831, 1098066]   \n",
       "1   [1082185, 1098066, 981760, 6666, 826249]   \n",
       "\n",
       "                                       tfidf  \\\n",
       "0  [1082185, 981760, 1127831, 6666, 1098066]   \n",
       "1   [1082185, 981760, 1098066, 826249, 6666]   \n",
       "\n",
       "                                  own_purchases  \\\n",
       "0    [1082185, 995242, 1029743, 840361, 904360]   \n",
       "1  [1082185, 1098066, 6534178, 826249, 1127831]   \n",
       "\n",
       "                  random_recommendation_top_5000  \\\n",
       "0  [977432, 12349795, 1070803, 6034964, 1046465]   \n",
       "1     [8015407, 829001, 836286, 935993, 1044724]   \n",
       "\n",
       "                                   itemitem_K_2  \\\n",
       "0    [1082185, 995242, 1029743, 840361, 904360]   \n",
       "1  [1082185, 1098066, 6534178, 826249, 1127831]   \n",
       "\n",
       "                                  itemitem_K_3  \\\n",
       "0   [1082185, 981760, 995242, 1029743, 840361]   \n",
       "1  [1082185, 981760, 1098066, 6534178, 826249]   \n",
       "\n",
       "                                 itemitem_K_4  \\\n",
       "0  [1082185, 981760, 995242, 1127831, 840361]   \n",
       "1  [1082185, 981760, 1098066, 826249, 995242]   \n",
       "\n",
       "                                  itemitem_K_5  \\\n",
       "0  [1082185, 981760, 1127831, 995242, 1098066]   \n",
       "1   [1082185, 981760, 1098066, 995242, 826249]   \n",
       "\n",
       "                                 itemitem_K_6  \\\n",
       "0  [1082185, 981760, 1127831, 995242, 840361]   \n",
       "1  [1082185, 981760, 1098066, 826249, 995242]   \n",
       "\n",
       "                                 itemitem_K_7  \\\n",
       "0  [1082185, 981760, 995242, 840361, 1127831]   \n",
       "1  [1082185, 981760, 1098066, 826249, 995242]   \n",
       "\n",
       "                                 itemitem_K_8  \\\n",
       "0  [1082185, 981760, 995242, 840361, 1127831]   \n",
       "1  [1082185, 981760, 1098066, 826249, 995242]   \n",
       "\n",
       "                                 itemitem_K_9  \\\n",
       "0  [1082185, 981760, 995242, 840361, 1127831]   \n",
       "1  [1082185, 981760, 1098066, 826249, 995242]   \n",
       "\n",
       "                                itemitem_K_10  \\\n",
       "0  [1082185, 981760, 995242, 840361, 1127831]   \n",
       "1  [1082185, 981760, 1098066, 826249, 995242]   \n",
       "\n",
       "                                itemitem_K_11  \n",
       "0  [1082185, 981760, 995242, 840361, 1127831]  \n",
       "1  [1082185, 981760, 1098066, 826249, 995242]  "
      ]
     },
     "execution_count": 24,
     "metadata": {},
     "output_type": "execute_result"
    }
   ],
   "source": [
    "result.head(2)"
   ]
  },
  {
   "cell_type": "markdown",
   "metadata": {},
   "source": [
    "**Посчитаем все метрики**"
   ]
  },
  {
   "cell_type": "code",
   "execution_count": 25,
   "metadata": {},
   "outputs": [
    {
     "name": "stderr",
     "output_type": "stream",
     "text": [
      "/Users/nikolayzhukov/DS/RecSys/hw2/metrics.py:20: RuntimeWarning: invalid value encountered in long_scalars\n",
      "  return flags.sum() / len(recommended_list)\n"
     ]
    },
    {
     "data": {
      "text/html": [
       "<div>\n",
       "<style scoped>\n",
       "    .dataframe tbody tr th:only-of-type {\n",
       "        vertical-align: middle;\n",
       "    }\n",
       "\n",
       "    .dataframe tbody tr th {\n",
       "        vertical-align: top;\n",
       "    }\n",
       "\n",
       "    .dataframe thead th {\n",
       "        text-align: right;\n",
       "    }\n",
       "</style>\n",
       "<table border=\"1\" class=\"dataframe\">\n",
       "  <thead>\n",
       "    <tr style=\"text-align: right;\">\n",
       "      <th></th>\n",
       "      <th>precision@5</th>\n",
       "    </tr>\n",
       "  </thead>\n",
       "  <tbody>\n",
       "    <tr>\n",
       "      <th>own_purchases</th>\n",
       "      <td>0.219858</td>\n",
       "    </tr>\n",
       "    <tr>\n",
       "      <th>itemitem_K_2</th>\n",
       "      <td>0.219303</td>\n",
       "    </tr>\n",
       "    <tr>\n",
       "      <th>itemitem_K_3</th>\n",
       "      <td>0.218976</td>\n",
       "    </tr>\n",
       "    <tr>\n",
       "      <th>itemitem_K_4</th>\n",
       "      <td>0.167287</td>\n",
       "    </tr>\n",
       "    <tr>\n",
       "      <th>itemitem_K_10</th>\n",
       "      <td>0.166112</td>\n",
       "    </tr>\n",
       "    <tr>\n",
       "      <th>itemitem_K_11</th>\n",
       "      <td>0.166112</td>\n",
       "    </tr>\n",
       "    <tr>\n",
       "      <th>itemitem_K_8</th>\n",
       "      <td>0.164838</td>\n",
       "    </tr>\n",
       "    <tr>\n",
       "      <th>itemitem_K_9</th>\n",
       "      <td>0.164153</td>\n",
       "    </tr>\n",
       "    <tr>\n",
       "      <th>itemitem_K_7</th>\n",
       "      <td>0.160039</td>\n",
       "    </tr>\n",
       "    <tr>\n",
       "      <th>itemitem_K_6</th>\n",
       "      <td>0.155534</td>\n",
       "    </tr>\n",
       "    <tr>\n",
       "      <th>popular_recommendation</th>\n",
       "      <td>0.155240</td>\n",
       "    </tr>\n",
       "    <tr>\n",
       "      <th>itemitem_K_5</th>\n",
       "      <td>0.151028</td>\n",
       "    </tr>\n",
       "    <tr>\n",
       "      <th>tfidf</th>\n",
       "      <td>0.138981</td>\n",
       "    </tr>\n",
       "    <tr>\n",
       "      <th>itemitem</th>\n",
       "      <td>0.136827</td>\n",
       "    </tr>\n",
       "    <tr>\n",
       "      <th>cosine</th>\n",
       "      <td>0.132909</td>\n",
       "    </tr>\n",
       "    <tr>\n",
       "      <th>random_recommendation_top_5000</th>\n",
       "      <td>0.005877</td>\n",
       "    </tr>\n",
       "    <tr>\n",
       "      <th>weighted_random_recommendation</th>\n",
       "      <td>0.001175</td>\n",
       "    </tr>\n",
       "    <tr>\n",
       "      <th>random_recommendation</th>\n",
       "      <td>0.000784</td>\n",
       "    </tr>\n",
       "  </tbody>\n",
       "</table>\n",
       "</div>"
      ],
      "text/plain": [
       "                                precision@5\n",
       "own_purchases                      0.219858\n",
       "itemitem_K_2                       0.219303\n",
       "itemitem_K_3                       0.218976\n",
       "itemitem_K_4                       0.167287\n",
       "itemitem_K_10                      0.166112\n",
       "itemitem_K_11                      0.166112\n",
       "itemitem_K_8                       0.164838\n",
       "itemitem_K_9                       0.164153\n",
       "itemitem_K_7                       0.160039\n",
       "itemitem_K_6                       0.155534\n",
       "popular_recommendation             0.155240\n",
       "itemitem_K_5                       0.151028\n",
       "tfidf                              0.138981\n",
       "itemitem                           0.136827\n",
       "cosine                             0.132909\n",
       "random_recommendation_top_5000     0.005877\n",
       "weighted_random_recommendation     0.001175\n",
       "random_recommendation              0.000784"
      ]
     },
     "execution_count": 25,
     "metadata": {},
     "output_type": "execute_result"
    }
   ],
   "source": [
    "# проверяем метрики\n",
    "show_metrics(result, precision_at_k)"
   ]
  },
  {
   "cell_type": "markdown",
   "metadata": {},
   "source": [
    "**По мере увеличения K результат ухудшается**"
   ]
  },
  {
   "cell_type": "code",
   "execution_count": null,
   "metadata": {},
   "outputs": [],
   "source": []
  }
 ],
 "metadata": {
  "colab": {
   "name": "hw_webinar_2.ipynb",
   "provenance": []
  },
  "kernelspec": {
   "display_name": "Python 3",
   "language": "python",
   "name": "python3"
  },
  "language_info": {
   "codemirror_mode": {
    "name": "ipython",
    "version": 3
   },
   "file_extension": ".py",
   "mimetype": "text/x-python",
   "name": "python",
   "nbconvert_exporter": "python",
   "pygments_lexer": "ipython3",
   "version": "3.8.5"
  }
 },
 "nbformat": 4,
 "nbformat_minor": 1
}
