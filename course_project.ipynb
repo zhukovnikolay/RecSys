{
 "cells": [
  {
   "cell_type": "markdown",
   "metadata": {},
   "source": [
    "# Курсовой проект\n"
   ]
  },
  {
   "cell_type": "markdown",
   "metadata": {},
   "source": [
    "# Import libs"
   ]
  },
  {
   "cell_type": "code",
   "execution_count": 1,
   "metadata": {},
   "outputs": [],
   "source": [
    "import pandas as pd\n",
    "import numpy as np\n",
    "import matplotlib.pyplot as plt\n",
    "%matplotlib inline\n",
    "\n",
    "# Для работы с матрицами\n",
    "from scipy.sparse import csr_matrix\n",
    "\n",
    "# Матричная факторизация\n",
    "from implicit import als\n",
    "\n",
    "# Модель второго уровня\n",
    "from lightgbm import LGBMClassifier\n",
    "\n",
    "import os, sys\n",
    "module_path = os.path.abspath(os.path.join(os.pardir))\n",
    "if module_path not in sys.path:\n",
    "    sys.path.append(module_path)\n",
    "\n",
    "# Написанные нами функции\n",
    "from metrics import precision_at_k, recall_at_k\n",
    "from utils import prefilter_items\n",
    "from recommenders import MainRecommender"
   ]
  },
  {
   "cell_type": "code",
   "execution_count": 2,
   "metadata": {},
   "outputs": [],
   "source": [
    "import warnings\n",
    "warnings.filterwarnings('ignore')"
   ]
  },
  {
   "cell_type": "markdown",
   "metadata": {},
   "source": [
    "## Read data"
   ]
  },
  {
   "cell_type": "code",
   "execution_count": 3,
   "metadata": {},
   "outputs": [],
   "source": [
    "data = pd.read_csv('./data/retail_train.csv')\n",
    "item_features = pd.read_csv('./data/product.csv')\n",
    "user_features = pd.read_csv('./data/hh_demographic.csv')\n",
    "df_test = pd.read_csv('retail_test1.csv')"
   ]
  },
  {
   "cell_type": "markdown",
   "metadata": {},
   "source": [
    "# Process features dataset"
   ]
  },
  {
   "cell_type": "code",
   "execution_count": 4,
   "metadata": {},
   "outputs": [],
   "source": [
    "ITEM_COL = 'item_id'\n",
    "USER_COL = 'user_id'"
   ]
  },
  {
   "cell_type": "code",
   "execution_count": 5,
   "metadata": {},
   "outputs": [],
   "source": [
    "# column processing\n",
    "item_features.columns = [col.lower() for col in item_features.columns]\n",
    "user_features.columns = [col.lower() for col in user_features.columns]\n",
    "\n",
    "item_features.rename(columns={'product_id': ITEM_COL}, inplace=True)\n",
    "user_features.rename(columns={'household_key': USER_COL }, inplace=True)"
   ]
  },
  {
   "cell_type": "markdown",
   "metadata": {},
   "source": [
    "# Split dataset for train, eval, test"
   ]
  },
  {
   "cell_type": "code",
   "execution_count": 6,
   "metadata": {},
   "outputs": [],
   "source": [
    "# Оставляем 3 недель на валидацию первой модели и тренировку второй, тест на отдельном датасете\n",
    "TRAIN_RANKER_WEEKS = 3"
   ]
  },
  {
   "cell_type": "code",
   "execution_count": 7,
   "metadata": {
    "scrolled": true
   },
   "outputs": [],
   "source": [
    "# берем данные для тренировки matching модели\n",
    "data_train_matcher = data[data['week_no'] < data['week_no'].max() - TRAIN_RANKER_WEEKS]\n",
    "\n",
    "# берем данные для валидации matching модели\n",
    "data_val_matcher = data[data['week_no'] >= data['week_no'].max() - TRAIN_RANKER_WEEKS]\n",
    "\n",
    "# берем данные для тренировки ranking модели\n",
    "data_train_ranker = data_val_matcher.copy()  # Для наглядности. Далее мы добавим изменения, и они будут отличаться"
   ]
  },
  {
   "cell_type": "code",
   "execution_count": 8,
   "metadata": {},
   "outputs": [],
   "source": [
    "def print_stats_data(df_data, name_df):\n",
    "    print(name_df)\n",
    "    print(f\"Shape: {df_data.shape} Users: {df_data[USER_COL].nunique()} Items: {df_data[ITEM_COL].nunique()}\")"
   ]
  },
  {
   "cell_type": "code",
   "execution_count": 9,
   "metadata": {
    "scrolled": true
   },
   "outputs": [
    {
     "name": "stdout",
     "output_type": "stream",
     "text": [
      "train_matcher\n",
      "Shape: (2278490, 12) Users: 2499 Items: 86865\n",
      "val_matcher\n",
      "Shape: (118314, 12) Users: 2042 Items: 24329\n",
      "train_ranker\n",
      "Shape: (118314, 12) Users: 2042 Items: 24329\n",
      "test\n",
      "Shape: (88734, 12) Users: 1885 Items: 20497\n"
     ]
    }
   ],
   "source": [
    "print_stats_data(data_train_matcher,'train_matcher')\n",
    "print_stats_data(data_val_matcher,'val_matcher')\n",
    "print_stats_data(data_train_ranker,'train_ranker')\n",
    "print_stats_data(df_test,'test')"
   ]
  },
  {
   "cell_type": "markdown",
   "metadata": {},
   "source": [
    "# Prefilter items"
   ]
  },
  {
   "cell_type": "markdown",
   "metadata": {},
   "source": [
    "#### Лучшие результаты на предварительном прогоне показал вариант с топ-3000."
   ]
  },
  {
   "cell_type": "code",
   "execution_count": 10,
   "metadata": {},
   "outputs": [
    {
     "name": "stdout",
     "output_type": "stream",
     "text": [
      "Decreased # items from 86865 to 3001\n"
     ]
    }
   ],
   "source": [
    "n_items_before = data_train_matcher['item_id'].nunique()\n",
    "\n",
    "data_train_matcher = prefilter_items(data_train_matcher, item_features=item_features, take_n_popular=3000)\n",
    "\n",
    "n_items_after = data_train_matcher['item_id'].nunique()\n",
    "print('Decreased # items from {} to {}'.format(n_items_before, n_items_after))"
   ]
  },
  {
   "cell_type": "markdown",
   "metadata": {},
   "source": [
    "# Make cold-start to warm-start"
   ]
  },
  {
   "cell_type": "code",
   "execution_count": 11,
   "metadata": {},
   "outputs": [
    {
     "name": "stdout",
     "output_type": "stream",
     "text": [
      "train_matcher\n",
      "Shape: (863782, 13) Users: 2496 Items: 3001\n",
      "val_matcher\n",
      "Shape: (118282, 12) Users: 2040 Items: 24325\n",
      "train_ranker\n",
      "Shape: (118282, 12) Users: 2040 Items: 24325\n",
      "test\n",
      "Shape: (88665, 12) Users: 1883 Items: 20492\n"
     ]
    }
   ],
   "source": [
    "# ищем общих пользователей (убираем холодный старт)\n",
    "common_users = data_train_matcher.user_id.values\n",
    "\n",
    "data_val_matcher = data_val_matcher[data_val_matcher.user_id.isin(common_users)]\n",
    "data_train_ranker = data_train_ranker[data_train_ranker.user_id.isin(common_users)]\n",
    "df_test = df_test[df_test.user_id.isin(common_users)]\n",
    "\n",
    "print_stats_data(data_train_matcher,'train_matcher')\n",
    "print_stats_data(data_val_matcher,'val_matcher')\n",
    "print_stats_data(data_train_ranker,'train_ranker')\n",
    "print_stats_data(df_test,'test')"
   ]
  },
  {
   "cell_type": "markdown",
   "metadata": {},
   "source": [
    "# Init/train recommender"
   ]
  },
  {
   "cell_type": "markdown",
   "metadata": {},
   "source": [
    "#### По результатам экспериментов лучшие результаты были у own_recommendations, в user_item_matrix - сумма покупки, взвешивание с кастомными параметрами bm25_weight(K1=200, B=0.5)"
   ]
  },
  {
   "cell_type": "code",
   "execution_count": 12,
   "metadata": {},
   "outputs": [
    {
     "name": "stderr",
     "output_type": "stream",
     "text": [
      "WARNING:root:OpenBLAS detected. Its highly recommend to set the environment variable 'export OPENBLAS_NUM_THREADS=1' to disable its internal multithreading\n"
     ]
    },
    {
     "data": {
      "application/vnd.jupyter.widget-view+json": {
       "model_id": "a1fe34b831d443d8921e6608ac64085f",
       "version_major": 2,
       "version_minor": 0
      },
      "text/plain": [
       "HBox(children=(HTML(value=''), FloatProgress(value=0.0, max=15.0), HTML(value='')))"
      ]
     },
     "metadata": {},
     "output_type": "display_data"
    },
    {
     "name": "stdout",
     "output_type": "stream",
     "text": [
      "\n"
     ]
    },
    {
     "data": {
      "application/vnd.jupyter.widget-view+json": {
       "model_id": "2bf9cb8343fb44718e525c66bf8ebdfd",
       "version_major": 2,
       "version_minor": 0
      },
      "text/plain": [
       "HBox(children=(HTML(value=''), FloatProgress(value=0.0, max=3001.0), HTML(value='')))"
      ]
     },
     "metadata": {},
     "output_type": "display_data"
    },
    {
     "name": "stdout",
     "output_type": "stream",
     "text": [
      "\n"
     ]
    }
   ],
   "source": [
    "recommender = MainRecommender(data_train_matcher)"
   ]
  },
  {
   "cell_type": "code",
   "execution_count": 13,
   "metadata": {},
   "outputs": [],
   "source": [
    "ACTUAL_COL = 'actual'"
   ]
  },
  {
   "cell_type": "code",
   "execution_count": 14,
   "metadata": {
    "scrolled": true
   },
   "outputs": [
    {
     "data": {
      "text/html": [
       "<div>\n",
       "<style scoped>\n",
       "    .dataframe tbody tr th:only-of-type {\n",
       "        vertical-align: middle;\n",
       "    }\n",
       "\n",
       "    .dataframe tbody tr th {\n",
       "        vertical-align: top;\n",
       "    }\n",
       "\n",
       "    .dataframe thead th {\n",
       "        text-align: right;\n",
       "    }\n",
       "</style>\n",
       "<table border=\"1\" class=\"dataframe\">\n",
       "  <thead>\n",
       "    <tr style=\"text-align: right;\">\n",
       "      <th></th>\n",
       "      <th>user_id</th>\n",
       "      <th>actual</th>\n",
       "    </tr>\n",
       "  </thead>\n",
       "  <tbody>\n",
       "    <tr>\n",
       "      <th>0</th>\n",
       "      <td>1</td>\n",
       "      <td>[821867, 834484, 856942, 865456, 889248, 90795...</td>\n",
       "    </tr>\n",
       "    <tr>\n",
       "      <th>1</th>\n",
       "      <td>3</td>\n",
       "      <td>[835476, 851057, 872021, 878302, 879948, 90963...</td>\n",
       "    </tr>\n",
       "  </tbody>\n",
       "</table>\n",
       "</div>"
      ],
      "text/plain": [
       "   user_id                                             actual\n",
       "0        1  [821867, 834484, 856942, 865456, 889248, 90795...\n",
       "1        3  [835476, 851057, 872021, 878302, 879948, 90963..."
      ]
     },
     "execution_count": 14,
     "metadata": {},
     "output_type": "execute_result"
    }
   ],
   "source": [
    "result_eval_matcher = data_val_matcher.groupby(USER_COL)[ITEM_COL].unique().reset_index()\n",
    "result_eval_matcher.columns=[USER_COL, ACTUAL_COL]\n",
    "result_eval_matcher.head(2)"
   ]
  },
  {
   "cell_type": "code",
   "execution_count": 15,
   "metadata": {},
   "outputs": [],
   "source": [
    "# # сырой и простой пример как можно обернуть в функцию\n",
    "def evalRecall(df_result, target_col_name, recommend_model, N=50):\n",
    "    result_col_name = recommend_model.__name__.replace('get_', '')\n",
    "    df_result[result_col_name] = df_result[target_col_name].apply(lambda x: recommend_model(x, N=N))\n",
    "    return df_result.apply(lambda row: recall_at_k(row[result_col_name], row[ACTUAL_COL], k=N), axis=1).mean()"
   ]
  },
  {
   "cell_type": "code",
   "execution_count": 16,
   "metadata": {},
   "outputs": [],
   "source": [
    "def calc_recall(df_data, top_k):\n",
    "    for col_name in df_data.columns[2:]:\n",
    "        yield col_name, df_data.apply(lambda row: recall_at_k(row[col_name], row[ACTUAL_COL], k=top_k), axis=1).mean()"
   ]
  },
  {
   "cell_type": "code",
   "execution_count": 17,
   "metadata": {},
   "outputs": [],
   "source": [
    "def calc_precision(df_data, top_k):\n",
    "    for col_name in df_data.columns[2:]:\n",
    "        yield col_name, df_data.apply(lambda row: precision_at_k(row[col_name], row[ACTUAL_COL], k=top_k), axis=1).mean()"
   ]
  },
  {
   "cell_type": "markdown",
   "metadata": {},
   "source": [
    "# Ranking part"
   ]
  },
  {
   "cell_type": "markdown",
   "metadata": {},
   "source": [
    "## Подготовка данных для трейна"
   ]
  },
  {
   "cell_type": "code",
   "execution_count": 18,
   "metadata": {},
   "outputs": [],
   "source": [
    "# взяли пользователей из трейна для ранжирования\n",
    "df_match_candidates = pd.DataFrame(data_train_ranker[USER_COL].unique())\n",
    "df_match_candidates.columns = [USER_COL]"
   ]
  },
  {
   "cell_type": "markdown",
   "metadata": {},
   "source": [
    "#### Отбираем 50 кандидатов - показало лучший результат"
   ]
  },
  {
   "cell_type": "code",
   "execution_count": 19,
   "metadata": {},
   "outputs": [],
   "source": [
    "# собираем кандитатов с первого этапа (matcher)\n",
    "df_match_candidates['candidates'] = df_match_candidates[USER_COL].apply(lambda x: recommender.get_own_recommendations(x, N=50))"
   ]
  },
  {
   "cell_type": "code",
   "execution_count": 20,
   "metadata": {},
   "outputs": [],
   "source": [
    "df_items = df_match_candidates.apply(lambda x: pd.Series(x['candidates']), axis=1).stack().reset_index(level=1, drop=True)\n",
    "df_items.name = 'item_id'"
   ]
  },
  {
   "cell_type": "code",
   "execution_count": 21,
   "metadata": {},
   "outputs": [],
   "source": [
    "df_match_candidates = df_match_candidates.drop('candidates', axis=1).join(df_items)"
   ]
  },
  {
   "cell_type": "markdown",
   "metadata": {},
   "source": [
    "### Check warm start"
   ]
  },
  {
   "cell_type": "code",
   "execution_count": 22,
   "metadata": {
    "scrolled": true
   },
   "outputs": [
    {
     "name": "stdout",
     "output_type": "stream",
     "text": [
      "match_candidates\n",
      "Shape: (102000, 2) Users: 2040 Items: 2835\n"
     ]
    }
   ],
   "source": [
    "print_stats_data(df_match_candidates, 'match_candidates')"
   ]
  },
  {
   "cell_type": "markdown",
   "metadata": {},
   "source": [
    "### Создаем трейн сет для ранжирования с учетом кандидатов с этапа 1 "
   ]
  },
  {
   "cell_type": "code",
   "execution_count": 23,
   "metadata": {},
   "outputs": [],
   "source": [
    "df_ranker_train = data_train_ranker[[USER_COL, ITEM_COL]].copy()\n",
    "df_ranker_train['target'] = 1  # тут только покупки "
   ]
  },
  {
   "cell_type": "code",
   "execution_count": 24,
   "metadata": {},
   "outputs": [
    {
     "data": {
      "text/html": [
       "<div>\n",
       "<style scoped>\n",
       "    .dataframe tbody tr th:only-of-type {\n",
       "        vertical-align: middle;\n",
       "    }\n",
       "\n",
       "    .dataframe tbody tr th {\n",
       "        vertical-align: top;\n",
       "    }\n",
       "\n",
       "    .dataframe thead th {\n",
       "        text-align: right;\n",
       "    }\n",
       "</style>\n",
       "<table border=\"1\" class=\"dataframe\">\n",
       "  <thead>\n",
       "    <tr style=\"text-align: right;\">\n",
       "      <th></th>\n",
       "      <th>user_id</th>\n",
       "      <th>item_id</th>\n",
       "      <th>target</th>\n",
       "    </tr>\n",
       "  </thead>\n",
       "  <tbody>\n",
       "    <tr>\n",
       "      <th>2277416</th>\n",
       "      <td>338</td>\n",
       "      <td>840173</td>\n",
       "      <td>1</td>\n",
       "    </tr>\n",
       "    <tr>\n",
       "      <th>2277417</th>\n",
       "      <td>338</td>\n",
       "      <td>1037348</td>\n",
       "      <td>1</td>\n",
       "    </tr>\n",
       "    <tr>\n",
       "      <th>2277418</th>\n",
       "      <td>338</td>\n",
       "      <td>5592737</td>\n",
       "      <td>1</td>\n",
       "    </tr>\n",
       "    <tr>\n",
       "      <th>2277419</th>\n",
       "      <td>338</td>\n",
       "      <td>7441679</td>\n",
       "      <td>1</td>\n",
       "    </tr>\n",
       "    <tr>\n",
       "      <th>2277420</th>\n",
       "      <td>338</td>\n",
       "      <td>7442317</td>\n",
       "      <td>1</td>\n",
       "    </tr>\n",
       "  </tbody>\n",
       "</table>\n",
       "</div>"
      ],
      "text/plain": [
       "         user_id  item_id  target\n",
       "2277416      338   840173       1\n",
       "2277417      338  1037348       1\n",
       "2277418      338  5592737       1\n",
       "2277419      338  7441679       1\n",
       "2277420      338  7442317       1"
      ]
     },
     "execution_count": 24,
     "metadata": {},
     "output_type": "execute_result"
    }
   ],
   "source": [
    "df_ranker_train.head()"
   ]
  },
  {
   "cell_type": "markdown",
   "metadata": {},
   "source": [
    "#### Не хватает нулей в датасете, поэтому добавляем наших кандитатов в качество нулей"
   ]
  },
  {
   "cell_type": "code",
   "execution_count": 25,
   "metadata": {
    "scrolled": true
   },
   "outputs": [],
   "source": [
    "df_ranker_train = df_match_candidates.merge(df_ranker_train, on=[USER_COL, ITEM_COL], how='left')\n",
    "\n",
    "# чистим дубликаты\n",
    "df_ranker_train = df_ranker_train.drop_duplicates(subset=[USER_COL, ITEM_COL])\n",
    "\n",
    "df_ranker_train['target'].fillna(0, inplace= True)"
   ]
  },
  {
   "cell_type": "code",
   "execution_count": 26,
   "metadata": {},
   "outputs": [
    {
     "data": {
      "text/plain": [
       "0.0    92808\n",
       "1.0     8231\n",
       "Name: target, dtype: int64"
      ]
     },
     "execution_count": 26,
     "metadata": {},
     "output_type": "execute_result"
    }
   ],
   "source": [
    "df_ranker_train.target.value_counts()"
   ]
  },
  {
   "cell_type": "code",
   "execution_count": 27,
   "metadata": {},
   "outputs": [
    {
     "data": {
      "text/html": [
       "<div>\n",
       "<style scoped>\n",
       "    .dataframe tbody tr th:only-of-type {\n",
       "        vertical-align: middle;\n",
       "    }\n",
       "\n",
       "    .dataframe tbody tr th {\n",
       "        vertical-align: top;\n",
       "    }\n",
       "\n",
       "    .dataframe thead th {\n",
       "        text-align: right;\n",
       "    }\n",
       "</style>\n",
       "<table border=\"1\" class=\"dataframe\">\n",
       "  <thead>\n",
       "    <tr style=\"text-align: right;\">\n",
       "      <th></th>\n",
       "      <th>user_id</th>\n",
       "      <th>item_id</th>\n",
       "      <th>target</th>\n",
       "    </tr>\n",
       "  </thead>\n",
       "  <tbody>\n",
       "    <tr>\n",
       "      <th>0</th>\n",
       "      <td>338</td>\n",
       "      <td>13002975</td>\n",
       "      <td>1.0</td>\n",
       "    </tr>\n",
       "    <tr>\n",
       "      <th>2</th>\n",
       "      <td>338</td>\n",
       "      <td>1026118</td>\n",
       "      <td>1.0</td>\n",
       "    </tr>\n",
       "  </tbody>\n",
       "</table>\n",
       "</div>"
      ],
      "text/plain": [
       "   user_id   item_id  target\n",
       "0      338  13002975     1.0\n",
       "2      338   1026118     1.0"
      ]
     },
     "execution_count": 27,
     "metadata": {},
     "output_type": "execute_result"
    }
   ],
   "source": [
    "df_ranker_train.head(2)"
   ]
  },
  {
   "cell_type": "markdown",
   "metadata": {},
   "source": [
    "(!) На каждого юзера 100 item_id-кандидатов"
   ]
  },
  {
   "cell_type": "code",
   "execution_count": 28,
   "metadata": {},
   "outputs": [
    {
     "data": {
      "text/plain": [
       "0.08146359326596661"
      ]
     },
     "execution_count": 28,
     "metadata": {},
     "output_type": "execute_result"
    }
   ],
   "source": [
    "df_ranker_train['target'].mean()"
   ]
  },
  {
   "cell_type": "markdown",
   "metadata": {},
   "source": [
    "## Генерим фичи (взяты из вебинара + из ДЗ 6)"
   ]
  },
  {
   "cell_type": "code",
   "execution_count": 29,
   "metadata": {},
   "outputs": [
    {
     "data": {
      "text/html": [
       "<div>\n",
       "<style scoped>\n",
       "    .dataframe tbody tr th:only-of-type {\n",
       "        vertical-align: middle;\n",
       "    }\n",
       "\n",
       "    .dataframe tbody tr th {\n",
       "        vertical-align: top;\n",
       "    }\n",
       "\n",
       "    .dataframe thead th {\n",
       "        text-align: right;\n",
       "    }\n",
       "</style>\n",
       "<table border=\"1\" class=\"dataframe\">\n",
       "  <thead>\n",
       "    <tr style=\"text-align: right;\">\n",
       "      <th></th>\n",
       "      <th>user_id</th>\n",
       "      <th>item_id</th>\n",
       "      <th>target</th>\n",
       "      <th>manufacturer</th>\n",
       "      <th>department</th>\n",
       "      <th>brand</th>\n",
       "      <th>commodity_desc</th>\n",
       "      <th>sub_commodity_desc</th>\n",
       "      <th>curr_size_of_product</th>\n",
       "      <th>age_desc</th>\n",
       "      <th>marital_status_code</th>\n",
       "      <th>income_desc</th>\n",
       "      <th>homeowner_desc</th>\n",
       "      <th>hh_comp_desc</th>\n",
       "      <th>household_size_desc</th>\n",
       "      <th>kid_category_desc</th>\n",
       "    </tr>\n",
       "  </thead>\n",
       "  <tbody>\n",
       "    <tr>\n",
       "      <th>0</th>\n",
       "      <td>338</td>\n",
       "      <td>13002975</td>\n",
       "      <td>1.0</td>\n",
       "      <td>2843</td>\n",
       "      <td>MEAT</td>\n",
       "      <td>National</td>\n",
       "      <td>BEEF</td>\n",
       "      <td>RIBS</td>\n",
       "      <td></td>\n",
       "      <td>NaN</td>\n",
       "      <td>NaN</td>\n",
       "      <td>NaN</td>\n",
       "      <td>NaN</td>\n",
       "      <td>NaN</td>\n",
       "      <td>NaN</td>\n",
       "      <td>NaN</td>\n",
       "    </tr>\n",
       "    <tr>\n",
       "      <th>1</th>\n",
       "      <td>338</td>\n",
       "      <td>1026118</td>\n",
       "      <td>1.0</td>\n",
       "      <td>2</td>\n",
       "      <td>PRODUCE</td>\n",
       "      <td>National</td>\n",
       "      <td>TOMATOES</td>\n",
       "      <td>ROMA TOMATOES (BULK/PKG)</td>\n",
       "      <td>25 LB</td>\n",
       "      <td>NaN</td>\n",
       "      <td>NaN</td>\n",
       "      <td>NaN</td>\n",
       "      <td>NaN</td>\n",
       "      <td>NaN</td>\n",
       "      <td>NaN</td>\n",
       "      <td>NaN</td>\n",
       "    </tr>\n",
       "  </tbody>\n",
       "</table>\n",
       "</div>"
      ],
      "text/plain": [
       "   user_id   item_id  target  manufacturer department     brand  \\\n",
       "0      338  13002975     1.0          2843       MEAT  National   \n",
       "1      338   1026118     1.0             2    PRODUCE  National   \n",
       "\n",
       "  commodity_desc        sub_commodity_desc curr_size_of_product age_desc  \\\n",
       "0           BEEF                      RIBS                           NaN   \n",
       "1       TOMATOES  ROMA TOMATOES (BULK/PKG)                25 LB      NaN   \n",
       "\n",
       "  marital_status_code income_desc homeowner_desc hh_comp_desc  \\\n",
       "0                 NaN         NaN            NaN          NaN   \n",
       "1                 NaN         NaN            NaN          NaN   \n",
       "\n",
       "  household_size_desc kid_category_desc  \n",
       "0                 NaN               NaN  \n",
       "1                 NaN               NaN  "
      ]
     },
     "execution_count": 29,
     "metadata": {},
     "output_type": "execute_result"
    }
   ],
   "source": [
    "df_ranker_train = df_ranker_train.merge(item_features, on='item_id', how='left')\n",
    "df_ranker_train = df_ranker_train.merge(user_features, on='user_id', how='left')\n",
    "\n",
    "df_ranker_train.head(2)"
   ]
  },
  {
   "cell_type": "code",
   "execution_count": 30,
   "metadata": {},
   "outputs": [],
   "source": [
    "# сделаем объединенный сет данных для первого уровня (матчинга)\n",
    "df_join_train_matcher = pd.concat([data_train_matcher, data_val_matcher])"
   ]
  },
  {
   "cell_type": "markdown",
   "metadata": {},
   "source": [
    "#### Фичи из вебинара (результат с ними лучше, чем только с собственно сгенерированными)"
   ]
  },
  {
   "cell_type": "code",
   "execution_count": 31,
   "metadata": {},
   "outputs": [],
   "source": [
    "df_ranker_train = df_ranker_train.merge(df_join_train_matcher.groupby(by=ITEM_COL).agg('sales_value').sum().rename('total_item_sales_value'), how='left',on=ITEM_COL)\n",
    "\n",
    "df_ranker_train = df_ranker_train.merge(df_join_train_matcher.groupby(by=ITEM_COL).agg('quantity').sum().rename('total_quantity_value'), how='left',on=ITEM_COL)\n",
    "\n",
    "df_ranker_train = df_ranker_train.merge(df_join_train_matcher.groupby(by=ITEM_COL).agg(USER_COL).count().rename('item_freq'), how='left',on=ITEM_COL)\n",
    "\n",
    "df_ranker_train = df_ranker_train.merge(df_join_train_matcher.groupby(by=USER_COL).agg(USER_COL).count().rename('user_freq'), how='left',on=USER_COL)\n",
    "\n",
    "df_ranker_train = df_ranker_train.merge(df_join_train_matcher.groupby(by=USER_COL).agg('sales_value').sum().rename('total_user_sales_value'), how='left',on=USER_COL)\n",
    "\n",
    "df_ranker_train = df_ranker_train.merge(df_join_train_matcher.groupby(by=ITEM_COL).agg('quantity').sum().rename('item_quantity_per_week')/df_join_train_matcher.week_no.nunique(), how='left',on=ITEM_COL)\n",
    "\n",
    "df_ranker_train = df_ranker_train.merge(df_join_train_matcher.groupby(by=USER_COL).agg('quantity').sum().rename('user_quantity_per_week')/df_join_train_matcher.week_no.nunique(), how='left',on=USER_COL)\n",
    "\n",
    "\n",
    "df_ranker_train = df_ranker_train.merge(df_join_train_matcher.groupby(by=ITEM_COL).agg('quantity').sum().rename('item_quantity_per_basket')/df_join_train_matcher.basket_id.nunique(), how='left',on=ITEM_COL)\n",
    "\n",
    "df_ranker_train = df_ranker_train.merge(df_join_train_matcher.groupby(by=USER_COL).agg('quantity').sum().rename('user_quantity_per_baskter')/df_join_train_matcher.basket_id.nunique(), how='left',on=USER_COL)\n",
    "\n",
    "\n",
    "df_ranker_train = df_ranker_train.merge(df_join_train_matcher.groupby(by=ITEM_COL).agg(USER_COL).count().rename('item_freq_per_basket')/df_join_train_matcher.basket_id.nunique(), how='left',on=ITEM_COL)\n",
    "\n",
    "df_ranker_train = df_ranker_train.merge(df_join_train_matcher.groupby(by=USER_COL).agg(USER_COL).count().rename('user_freq_per_basket')/df_join_train_matcher.basket_id.nunique(), how='left',on=USER_COL)"
   ]
  },
  {
   "cell_type": "markdown",
   "metadata": {},
   "source": [
    "### Фичи юзера"
   ]
  },
  {
   "cell_type": "markdown",
   "metadata": {},
   "source": [
    "**Средний чек юзера**"
   ]
  },
  {
   "cell_type": "code",
   "execution_count": 32,
   "metadata": {},
   "outputs": [
    {
     "data": {
      "text/html": [
       "<div>\n",
       "<style scoped>\n",
       "    .dataframe tbody tr th:only-of-type {\n",
       "        vertical-align: middle;\n",
       "    }\n",
       "\n",
       "    .dataframe tbody tr th {\n",
       "        vertical-align: top;\n",
       "    }\n",
       "\n",
       "    .dataframe thead th {\n",
       "        text-align: right;\n",
       "    }\n",
       "</style>\n",
       "<table border=\"1\" class=\"dataframe\">\n",
       "  <thead>\n",
       "    <tr style=\"text-align: right;\">\n",
       "      <th></th>\n",
       "      <th>user_id</th>\n",
       "      <th>baskets_sum</th>\n",
       "      <th>sales_sum</th>\n",
       "      <th>average_check</th>\n",
       "    </tr>\n",
       "  </thead>\n",
       "  <tbody>\n",
       "    <tr>\n",
       "      <th>0</th>\n",
       "      <td>1</td>\n",
       "      <td>73</td>\n",
       "      <td>2559.40</td>\n",
       "      <td>35.060274</td>\n",
       "    </tr>\n",
       "    <tr>\n",
       "      <th>1</th>\n",
       "      <td>2</td>\n",
       "      <td>41</td>\n",
       "      <td>1258.55</td>\n",
       "      <td>30.696341</td>\n",
       "    </tr>\n",
       "    <tr>\n",
       "      <th>2</th>\n",
       "      <td>3</td>\n",
       "      <td>39</td>\n",
       "      <td>1154.06</td>\n",
       "      <td>29.591282</td>\n",
       "    </tr>\n",
       "    <tr>\n",
       "      <th>3</th>\n",
       "      <td>4</td>\n",
       "      <td>30</td>\n",
       "      <td>924.10</td>\n",
       "      <td>30.803333</td>\n",
       "    </tr>\n",
       "    <tr>\n",
       "      <th>4</th>\n",
       "      <td>5</td>\n",
       "      <td>33</td>\n",
       "      <td>561.71</td>\n",
       "      <td>17.021515</td>\n",
       "    </tr>\n",
       "  </tbody>\n",
       "</table>\n",
       "</div>"
      ],
      "text/plain": [
       "   user_id  baskets_sum  sales_sum  average_check\n",
       "0        1           73    2559.40      35.060274\n",
       "1        2           41    1258.55      30.696341\n",
       "2        3           39    1154.06      29.591282\n",
       "3        4           30     924.10      30.803333\n",
       "4        5           33     561.71      17.021515"
      ]
     },
     "execution_count": 32,
     "metadata": {},
     "output_type": "execute_result"
    }
   ],
   "source": [
    "average_check = df_join_train_matcher.groupby('user_id').agg({'basket_id': 'nunique', 'sales_value': 'sum'}).reset_index()\n",
    "average_check.rename(columns={'basket_id': 'baskets_sum', 'sales_value': 'sales_sum'}, inplace=True)\n",
    "average_check['average_check'] = average_check['sales_sum'] / average_check['baskets_sum']\n",
    "average_check.head()"
   ]
  },
  {
   "cell_type": "code",
   "execution_count": 33,
   "metadata": {},
   "outputs": [
    {
     "data": {
      "text/html": [
       "<div>\n",
       "<style scoped>\n",
       "    .dataframe tbody tr th:only-of-type {\n",
       "        vertical-align: middle;\n",
       "    }\n",
       "\n",
       "    .dataframe tbody tr th {\n",
       "        vertical-align: top;\n",
       "    }\n",
       "\n",
       "    .dataframe thead th {\n",
       "        text-align: right;\n",
       "    }\n",
       "</style>\n",
       "<table border=\"1\" class=\"dataframe\">\n",
       "  <thead>\n",
       "    <tr style=\"text-align: right;\">\n",
       "      <th></th>\n",
       "      <th>user_id</th>\n",
       "      <th>item_id</th>\n",
       "      <th>target</th>\n",
       "      <th>manufacturer</th>\n",
       "      <th>department</th>\n",
       "      <th>brand</th>\n",
       "      <th>commodity_desc</th>\n",
       "      <th>sub_commodity_desc</th>\n",
       "      <th>curr_size_of_product</th>\n",
       "      <th>age_desc</th>\n",
       "      <th>...</th>\n",
       "      <th>item_freq</th>\n",
       "      <th>user_freq</th>\n",
       "      <th>total_user_sales_value</th>\n",
       "      <th>item_quantity_per_week</th>\n",
       "      <th>user_quantity_per_week</th>\n",
       "      <th>item_quantity_per_basket</th>\n",
       "      <th>user_quantity_per_baskter</th>\n",
       "      <th>item_freq_per_basket</th>\n",
       "      <th>user_freq_per_basket</th>\n",
       "      <th>average_check</th>\n",
       "    </tr>\n",
       "  </thead>\n",
       "  <tbody>\n",
       "    <tr>\n",
       "      <th>0</th>\n",
       "      <td>338</td>\n",
       "      <td>13002975</td>\n",
       "      <td>1.0</td>\n",
       "      <td>2843</td>\n",
       "      <td>MEAT</td>\n",
       "      <td>National</td>\n",
       "      <td>BEEF</td>\n",
       "      <td>RIBS</td>\n",
       "      <td></td>\n",
       "      <td>NaN</td>\n",
       "      <td>...</td>\n",
       "      <td>81</td>\n",
       "      <td>325</td>\n",
       "      <td>1308.75</td>\n",
       "      <td>1.305263</td>\n",
       "      <td>4.168421</td>\n",
       "      <td>0.000658</td>\n",
       "      <td>0.002101</td>\n",
       "      <td>0.000430</td>\n",
       "      <td>0.001724</td>\n",
       "      <td>13.0875</td>\n",
       "    </tr>\n",
       "    <tr>\n",
       "      <th>1</th>\n",
       "      <td>338</td>\n",
       "      <td>1026118</td>\n",
       "      <td>1.0</td>\n",
       "      <td>2</td>\n",
       "      <td>PRODUCE</td>\n",
       "      <td>National</td>\n",
       "      <td>TOMATOES</td>\n",
       "      <td>ROMA TOMATOES (BULK/PKG)</td>\n",
       "      <td>25 LB</td>\n",
       "      <td>NaN</td>\n",
       "      <td>...</td>\n",
       "      <td>721</td>\n",
       "      <td>325</td>\n",
       "      <td>1308.75</td>\n",
       "      <td>7.568421</td>\n",
       "      <td>4.168421</td>\n",
       "      <td>0.003814</td>\n",
       "      <td>0.002101</td>\n",
       "      <td>0.003824</td>\n",
       "      <td>0.001724</td>\n",
       "      <td>13.0875</td>\n",
       "    </tr>\n",
       "  </tbody>\n",
       "</table>\n",
       "<p>2 rows × 28 columns</p>\n",
       "</div>"
      ],
      "text/plain": [
       "   user_id   item_id  target  manufacturer department     brand  \\\n",
       "0      338  13002975     1.0          2843       MEAT  National   \n",
       "1      338   1026118     1.0             2    PRODUCE  National   \n",
       "\n",
       "  commodity_desc        sub_commodity_desc curr_size_of_product age_desc  ...  \\\n",
       "0           BEEF                      RIBS                           NaN  ...   \n",
       "1       TOMATOES  ROMA TOMATOES (BULK/PKG)                25 LB      NaN  ...   \n",
       "\n",
       "  item_freq user_freq total_user_sales_value item_quantity_per_week  \\\n",
       "0        81       325                1308.75               1.305263   \n",
       "1       721       325                1308.75               7.568421   \n",
       "\n",
       "  user_quantity_per_week item_quantity_per_basket  user_quantity_per_baskter  \\\n",
       "0               4.168421                 0.000658                   0.002101   \n",
       "1               4.168421                 0.003814                   0.002101   \n",
       "\n",
       "   item_freq_per_basket  user_freq_per_basket  average_check  \n",
       "0              0.000430              0.001724        13.0875  \n",
       "1              0.003824              0.001724        13.0875  \n",
       "\n",
       "[2 rows x 28 columns]"
      ]
     },
     "execution_count": 33,
     "metadata": {},
     "output_type": "execute_result"
    }
   ],
   "source": [
    "df_ranker_train = df_ranker_train.merge(average_check[['user_id', 'average_check']], on='user_id', how='left')\n",
    "df_ranker_train.head(2)"
   ]
  },
  {
   "cell_type": "markdown",
   "metadata": {},
   "source": [
    "**Частотность покупок (раз в месяц)**\n",
    "\n",
    "Для простоты считаем, что в месяце ровно 4 недели."
   ]
  },
  {
   "cell_type": "code",
   "execution_count": 34,
   "metadata": {},
   "outputs": [
    {
     "data": {
      "text/html": [
       "<div>\n",
       "<style scoped>\n",
       "    .dataframe tbody tr th:only-of-type {\n",
       "        vertical-align: middle;\n",
       "    }\n",
       "\n",
       "    .dataframe tbody tr th {\n",
       "        vertical-align: top;\n",
       "    }\n",
       "\n",
       "    .dataframe thead th {\n",
       "        text-align: right;\n",
       "    }\n",
       "</style>\n",
       "<table border=\"1\" class=\"dataframe\">\n",
       "  <thead>\n",
       "    <tr style=\"text-align: right;\">\n",
       "      <th></th>\n",
       "      <th>user_id</th>\n",
       "      <th>week_no</th>\n",
       "      <th>basket_id</th>\n",
       "      <th>purchases_freq</th>\n",
       "    </tr>\n",
       "  </thead>\n",
       "  <tbody>\n",
       "    <tr>\n",
       "      <th>0</th>\n",
       "      <td>1</td>\n",
       "      <td>64</td>\n",
       "      <td>73</td>\n",
       "      <td>0.285156</td>\n",
       "    </tr>\n",
       "    <tr>\n",
       "      <th>1</th>\n",
       "      <td>2</td>\n",
       "      <td>34</td>\n",
       "      <td>41</td>\n",
       "      <td>0.301471</td>\n",
       "    </tr>\n",
       "    <tr>\n",
       "      <th>2</th>\n",
       "      <td>3</td>\n",
       "      <td>32</td>\n",
       "      <td>39</td>\n",
       "      <td>0.304688</td>\n",
       "    </tr>\n",
       "    <tr>\n",
       "      <th>3</th>\n",
       "      <td>4</td>\n",
       "      <td>26</td>\n",
       "      <td>30</td>\n",
       "      <td>0.288462</td>\n",
       "    </tr>\n",
       "    <tr>\n",
       "      <th>4</th>\n",
       "      <td>5</td>\n",
       "      <td>23</td>\n",
       "      <td>33</td>\n",
       "      <td>0.358696</td>\n",
       "    </tr>\n",
       "  </tbody>\n",
       "</table>\n",
       "</div>"
      ],
      "text/plain": [
       "   user_id  week_no  basket_id  purchases_freq\n",
       "0        1       64         73        0.285156\n",
       "1        2       34         41        0.301471\n",
       "2        3       32         39        0.304688\n",
       "3        4       26         30        0.288462\n",
       "4        5       23         33        0.358696"
      ]
     },
     "execution_count": 34,
     "metadata": {},
     "output_type": "execute_result"
    }
   ],
   "source": [
    "purchases_freq = df_join_train_matcher.groupby('user_id').agg({'week_no': 'nunique', 'basket_id': 'nunique'}).reset_index()\n",
    "purchases_freq['purchases_freq'] = purchases_freq['basket_id'] / (4 * purchases_freq['week_no'])\n",
    "purchases_freq.head()"
   ]
  },
  {
   "cell_type": "code",
   "execution_count": 35,
   "metadata": {},
   "outputs": [
    {
     "data": {
      "text/html": [
       "<div>\n",
       "<style scoped>\n",
       "    .dataframe tbody tr th:only-of-type {\n",
       "        vertical-align: middle;\n",
       "    }\n",
       "\n",
       "    .dataframe tbody tr th {\n",
       "        vertical-align: top;\n",
       "    }\n",
       "\n",
       "    .dataframe thead th {\n",
       "        text-align: right;\n",
       "    }\n",
       "</style>\n",
       "<table border=\"1\" class=\"dataframe\">\n",
       "  <thead>\n",
       "    <tr style=\"text-align: right;\">\n",
       "      <th></th>\n",
       "      <th>user_id</th>\n",
       "      <th>item_id</th>\n",
       "      <th>target</th>\n",
       "      <th>manufacturer</th>\n",
       "      <th>department</th>\n",
       "      <th>brand</th>\n",
       "      <th>commodity_desc</th>\n",
       "      <th>sub_commodity_desc</th>\n",
       "      <th>curr_size_of_product</th>\n",
       "      <th>age_desc</th>\n",
       "      <th>...</th>\n",
       "      <th>user_freq</th>\n",
       "      <th>total_user_sales_value</th>\n",
       "      <th>item_quantity_per_week</th>\n",
       "      <th>user_quantity_per_week</th>\n",
       "      <th>item_quantity_per_basket</th>\n",
       "      <th>user_quantity_per_baskter</th>\n",
       "      <th>item_freq_per_basket</th>\n",
       "      <th>user_freq_per_basket</th>\n",
       "      <th>average_check</th>\n",
       "      <th>purchases_freq</th>\n",
       "    </tr>\n",
       "  </thead>\n",
       "  <tbody>\n",
       "    <tr>\n",
       "      <th>0</th>\n",
       "      <td>338</td>\n",
       "      <td>13002975</td>\n",
       "      <td>1.0</td>\n",
       "      <td>2843</td>\n",
       "      <td>MEAT</td>\n",
       "      <td>National</td>\n",
       "      <td>BEEF</td>\n",
       "      <td>RIBS</td>\n",
       "      <td></td>\n",
       "      <td>NaN</td>\n",
       "      <td>...</td>\n",
       "      <td>325</td>\n",
       "      <td>1308.75</td>\n",
       "      <td>1.305263</td>\n",
       "      <td>4.168421</td>\n",
       "      <td>0.000658</td>\n",
       "      <td>0.002101</td>\n",
       "      <td>0.000430</td>\n",
       "      <td>0.001724</td>\n",
       "      <td>13.0875</td>\n",
       "      <td>0.510204</td>\n",
       "    </tr>\n",
       "    <tr>\n",
       "      <th>1</th>\n",
       "      <td>338</td>\n",
       "      <td>1026118</td>\n",
       "      <td>1.0</td>\n",
       "      <td>2</td>\n",
       "      <td>PRODUCE</td>\n",
       "      <td>National</td>\n",
       "      <td>TOMATOES</td>\n",
       "      <td>ROMA TOMATOES (BULK/PKG)</td>\n",
       "      <td>25 LB</td>\n",
       "      <td>NaN</td>\n",
       "      <td>...</td>\n",
       "      <td>325</td>\n",
       "      <td>1308.75</td>\n",
       "      <td>7.568421</td>\n",
       "      <td>4.168421</td>\n",
       "      <td>0.003814</td>\n",
       "      <td>0.002101</td>\n",
       "      <td>0.003824</td>\n",
       "      <td>0.001724</td>\n",
       "      <td>13.0875</td>\n",
       "      <td>0.510204</td>\n",
       "    </tr>\n",
       "  </tbody>\n",
       "</table>\n",
       "<p>2 rows × 29 columns</p>\n",
       "</div>"
      ],
      "text/plain": [
       "   user_id   item_id  target  manufacturer department     brand  \\\n",
       "0      338  13002975     1.0          2843       MEAT  National   \n",
       "1      338   1026118     1.0             2    PRODUCE  National   \n",
       "\n",
       "  commodity_desc        sub_commodity_desc curr_size_of_product age_desc  ...  \\\n",
       "0           BEEF                      RIBS                           NaN  ...   \n",
       "1       TOMATOES  ROMA TOMATOES (BULK/PKG)                25 LB      NaN  ...   \n",
       "\n",
       "  user_freq total_user_sales_value item_quantity_per_week  \\\n",
       "0       325                1308.75               1.305263   \n",
       "1       325                1308.75               7.568421   \n",
       "\n",
       "  user_quantity_per_week item_quantity_per_basket user_quantity_per_baskter  \\\n",
       "0               4.168421                 0.000658                  0.002101   \n",
       "1               4.168421                 0.003814                  0.002101   \n",
       "\n",
       "   item_freq_per_basket  user_freq_per_basket  average_check  purchases_freq  \n",
       "0              0.000430              0.001724        13.0875        0.510204  \n",
       "1              0.003824              0.001724        13.0875        0.510204  \n",
       "\n",
       "[2 rows x 29 columns]"
      ]
     },
     "execution_count": 35,
     "metadata": {},
     "output_type": "execute_result"
    }
   ],
   "source": [
    "df_ranker_train = df_ranker_train.merge(purchases_freq[['user_id', 'purchases_freq']], on='user_id', how='left')\n",
    "df_ranker_train.head(2)"
   ]
  },
  {
   "cell_type": "markdown",
   "metadata": {},
   "source": [
    "### Фичи товара"
   ]
  },
  {
   "cell_type": "markdown",
   "metadata": {},
   "source": [
    "**Цена товара**"
   ]
  },
  {
   "cell_type": "code",
   "execution_count": 36,
   "metadata": {
    "scrolled": true
   },
   "outputs": [
    {
     "data": {
      "text/html": [
       "<div>\n",
       "<style scoped>\n",
       "    .dataframe tbody tr th:only-of-type {\n",
       "        vertical-align: middle;\n",
       "    }\n",
       "\n",
       "    .dataframe tbody tr th {\n",
       "        vertical-align: top;\n",
       "    }\n",
       "\n",
       "    .dataframe thead th {\n",
       "        text-align: right;\n",
       "    }\n",
       "</style>\n",
       "<table border=\"1\" class=\"dataframe\">\n",
       "  <thead>\n",
       "    <tr style=\"text-align: right;\">\n",
       "      <th></th>\n",
       "      <th>user_id</th>\n",
       "      <th>basket_id</th>\n",
       "      <th>day</th>\n",
       "      <th>item_id</th>\n",
       "      <th>quantity</th>\n",
       "      <th>sales_value</th>\n",
       "      <th>store_id</th>\n",
       "      <th>retail_disc</th>\n",
       "      <th>trans_time</th>\n",
       "      <th>week_no</th>\n",
       "      <th>coupon_disc</th>\n",
       "      <th>coupon_match_disc</th>\n",
       "      <th>price</th>\n",
       "    </tr>\n",
       "  </thead>\n",
       "  <tbody>\n",
       "    <tr>\n",
       "      <th>7</th>\n",
       "      <td>2375</td>\n",
       "      <td>26984851516</td>\n",
       "      <td>1</td>\n",
       "      <td>1085983</td>\n",
       "      <td>1</td>\n",
       "      <td>2.99</td>\n",
       "      <td>364</td>\n",
       "      <td>-0.40</td>\n",
       "      <td>1642</td>\n",
       "      <td>1</td>\n",
       "      <td>0.0</td>\n",
       "      <td>0.0</td>\n",
       "      <td>2.99</td>\n",
       "    </tr>\n",
       "    <tr>\n",
       "      <th>11</th>\n",
       "      <td>1364</td>\n",
       "      <td>26984896261</td>\n",
       "      <td>1</td>\n",
       "      <td>999999</td>\n",
       "      <td>1</td>\n",
       "      <td>2.19</td>\n",
       "      <td>31742</td>\n",
       "      <td>0.00</td>\n",
       "      <td>1520</td>\n",
       "      <td>1</td>\n",
       "      <td>0.0</td>\n",
       "      <td>0.0</td>\n",
       "      <td>2.19</td>\n",
       "    </tr>\n",
       "    <tr>\n",
       "      <th>12</th>\n",
       "      <td>1364</td>\n",
       "      <td>26984896261</td>\n",
       "      <td>1</td>\n",
       "      <td>999999</td>\n",
       "      <td>1</td>\n",
       "      <td>2.99</td>\n",
       "      <td>31742</td>\n",
       "      <td>-0.40</td>\n",
       "      <td>1520</td>\n",
       "      <td>1</td>\n",
       "      <td>0.0</td>\n",
       "      <td>0.0</td>\n",
       "      <td>2.99</td>\n",
       "    </tr>\n",
       "    <tr>\n",
       "      <th>14</th>\n",
       "      <td>1364</td>\n",
       "      <td>26984896261</td>\n",
       "      <td>1</td>\n",
       "      <td>937406</td>\n",
       "      <td>1</td>\n",
       "      <td>2.50</td>\n",
       "      <td>31742</td>\n",
       "      <td>-0.99</td>\n",
       "      <td>1520</td>\n",
       "      <td>1</td>\n",
       "      <td>0.0</td>\n",
       "      <td>0.0</td>\n",
       "      <td>2.50</td>\n",
       "    </tr>\n",
       "    <tr>\n",
       "      <th>32</th>\n",
       "      <td>1172</td>\n",
       "      <td>26985025264</td>\n",
       "      <td>1</td>\n",
       "      <td>999999</td>\n",
       "      <td>1</td>\n",
       "      <td>3.59</td>\n",
       "      <td>396</td>\n",
       "      <td>0.00</td>\n",
       "      <td>946</td>\n",
       "      <td>1</td>\n",
       "      <td>0.0</td>\n",
       "      <td>0.0</td>\n",
       "      <td>3.59</td>\n",
       "    </tr>\n",
       "  </tbody>\n",
       "</table>\n",
       "</div>"
      ],
      "text/plain": [
       "    user_id    basket_id  day  item_id  quantity  sales_value  store_id  \\\n",
       "7      2375  26984851516    1  1085983         1         2.99       364   \n",
       "11     1364  26984896261    1   999999         1         2.19     31742   \n",
       "12     1364  26984896261    1   999999         1         2.99     31742   \n",
       "14     1364  26984896261    1   937406         1         2.50     31742   \n",
       "32     1172  26985025264    1   999999         1         3.59       396   \n",
       "\n",
       "    retail_disc  trans_time  week_no  coupon_disc  coupon_match_disc  price  \n",
       "7         -0.40        1642        1          0.0                0.0   2.99  \n",
       "11         0.00        1520        1          0.0                0.0   2.19  \n",
       "12        -0.40        1520        1          0.0                0.0   2.99  \n",
       "14        -0.99        1520        1          0.0                0.0   2.50  \n",
       "32         0.00         946        1          0.0                0.0   3.59  "
      ]
     },
     "execution_count": 36,
     "metadata": {},
     "output_type": "execute_result"
    }
   ],
   "source": [
    "df_join_train_matcher['price'] = df_join_train_matcher['sales_value'] / (np.maximum(df_join_train_matcher['quantity'], 1))\n",
    "df_join_train_matcher.head()"
   ]
  },
  {
   "cell_type": "code",
   "execution_count": 37,
   "metadata": {},
   "outputs": [
    {
     "data": {
      "text/html": [
       "<div>\n",
       "<style scoped>\n",
       "    .dataframe tbody tr th:only-of-type {\n",
       "        vertical-align: middle;\n",
       "    }\n",
       "\n",
       "    .dataframe tbody tr th {\n",
       "        vertical-align: top;\n",
       "    }\n",
       "\n",
       "    .dataframe thead th {\n",
       "        text-align: right;\n",
       "    }\n",
       "</style>\n",
       "<table border=\"1\" class=\"dataframe\">\n",
       "  <thead>\n",
       "    <tr style=\"text-align: right;\">\n",
       "      <th></th>\n",
       "      <th>item_id</th>\n",
       "      <th>price</th>\n",
       "    </tr>\n",
       "  </thead>\n",
       "  <tbody>\n",
       "    <tr>\n",
       "      <th>0</th>\n",
       "      <td>29512</td>\n",
       "      <td>0.99</td>\n",
       "    </tr>\n",
       "    <tr>\n",
       "      <th>1</th>\n",
       "      <td>30356</td>\n",
       "      <td>2.39</td>\n",
       "    </tr>\n",
       "    <tr>\n",
       "      <th>2</th>\n",
       "      <td>32392</td>\n",
       "      <td>1.39</td>\n",
       "    </tr>\n",
       "    <tr>\n",
       "      <th>3</th>\n",
       "      <td>32439</td>\n",
       "      <td>1.88</td>\n",
       "    </tr>\n",
       "    <tr>\n",
       "      <th>4</th>\n",
       "      <td>34873</td>\n",
       "      <td>1.99</td>\n",
       "    </tr>\n",
       "  </tbody>\n",
       "</table>\n",
       "</div>"
      ],
      "text/plain": [
       "   item_id  price\n",
       "0    29512   0.99\n",
       "1    30356   2.39\n",
       "2    32392   1.39\n",
       "3    32439   1.88\n",
       "4    34873   1.99"
      ]
     },
     "execution_count": 37,
     "metadata": {},
     "output_type": "execute_result"
    }
   ],
   "source": [
    "mean_good_price = df_join_train_matcher.groupby('item_id').agg({'price': 'mean'}).reset_index()\n",
    "mean_good_price.head()"
   ]
  },
  {
   "cell_type": "code",
   "execution_count": 38,
   "metadata": {},
   "outputs": [
    {
     "data": {
      "text/html": [
       "<div>\n",
       "<style scoped>\n",
       "    .dataframe tbody tr th:only-of-type {\n",
       "        vertical-align: middle;\n",
       "    }\n",
       "\n",
       "    .dataframe tbody tr th {\n",
       "        vertical-align: top;\n",
       "    }\n",
       "\n",
       "    .dataframe thead th {\n",
       "        text-align: right;\n",
       "    }\n",
       "</style>\n",
       "<table border=\"1\" class=\"dataframe\">\n",
       "  <thead>\n",
       "    <tr style=\"text-align: right;\">\n",
       "      <th></th>\n",
       "      <th>user_id</th>\n",
       "      <th>item_id</th>\n",
       "      <th>target</th>\n",
       "      <th>manufacturer</th>\n",
       "      <th>department</th>\n",
       "      <th>brand</th>\n",
       "      <th>commodity_desc</th>\n",
       "      <th>sub_commodity_desc</th>\n",
       "      <th>curr_size_of_product</th>\n",
       "      <th>age_desc</th>\n",
       "      <th>...</th>\n",
       "      <th>total_user_sales_value</th>\n",
       "      <th>item_quantity_per_week</th>\n",
       "      <th>user_quantity_per_week</th>\n",
       "      <th>item_quantity_per_basket</th>\n",
       "      <th>user_quantity_per_baskter</th>\n",
       "      <th>item_freq_per_basket</th>\n",
       "      <th>user_freq_per_basket</th>\n",
       "      <th>average_check</th>\n",
       "      <th>purchases_freq</th>\n",
       "      <th>price</th>\n",
       "    </tr>\n",
       "  </thead>\n",
       "  <tbody>\n",
       "    <tr>\n",
       "      <th>0</th>\n",
       "      <td>338</td>\n",
       "      <td>13002975</td>\n",
       "      <td>1.0</td>\n",
       "      <td>2843</td>\n",
       "      <td>MEAT</td>\n",
       "      <td>National</td>\n",
       "      <td>BEEF</td>\n",
       "      <td>RIBS</td>\n",
       "      <td></td>\n",
       "      <td>NaN</td>\n",
       "      <td>...</td>\n",
       "      <td>1308.75</td>\n",
       "      <td>1.305263</td>\n",
       "      <td>4.168421</td>\n",
       "      <td>0.000658</td>\n",
       "      <td>0.002101</td>\n",
       "      <td>0.000430</td>\n",
       "      <td>0.001724</td>\n",
       "      <td>13.0875</td>\n",
       "      <td>0.510204</td>\n",
       "      <td>4.120180</td>\n",
       "    </tr>\n",
       "    <tr>\n",
       "      <th>1</th>\n",
       "      <td>338</td>\n",
       "      <td>1026118</td>\n",
       "      <td>1.0</td>\n",
       "      <td>2</td>\n",
       "      <td>PRODUCE</td>\n",
       "      <td>National</td>\n",
       "      <td>TOMATOES</td>\n",
       "      <td>ROMA TOMATOES (BULK/PKG)</td>\n",
       "      <td>25 LB</td>\n",
       "      <td>NaN</td>\n",
       "      <td>...</td>\n",
       "      <td>1308.75</td>\n",
       "      <td>7.568421</td>\n",
       "      <td>4.168421</td>\n",
       "      <td>0.003814</td>\n",
       "      <td>0.002101</td>\n",
       "      <td>0.003824</td>\n",
       "      <td>0.001724</td>\n",
       "      <td>13.0875</td>\n",
       "      <td>0.510204</td>\n",
       "      <td>3.376886</td>\n",
       "    </tr>\n",
       "  </tbody>\n",
       "</table>\n",
       "<p>2 rows × 30 columns</p>\n",
       "</div>"
      ],
      "text/plain": [
       "   user_id   item_id  target  manufacturer department     brand  \\\n",
       "0      338  13002975     1.0          2843       MEAT  National   \n",
       "1      338   1026118     1.0             2    PRODUCE  National   \n",
       "\n",
       "  commodity_desc        sub_commodity_desc curr_size_of_product age_desc  ...  \\\n",
       "0           BEEF                      RIBS                           NaN  ...   \n",
       "1       TOMATOES  ROMA TOMATOES (BULK/PKG)                25 LB      NaN  ...   \n",
       "\n",
       "  total_user_sales_value item_quantity_per_week user_quantity_per_week  \\\n",
       "0                1308.75               1.305263               4.168421   \n",
       "1                1308.75               7.568421               4.168421   \n",
       "\n",
       "  item_quantity_per_basket user_quantity_per_baskter item_freq_per_basket  \\\n",
       "0                 0.000658                  0.002101             0.000430   \n",
       "1                 0.003814                  0.002101             0.003824   \n",
       "\n",
       "   user_freq_per_basket  average_check  purchases_freq     price  \n",
       "0              0.001724        13.0875        0.510204  4.120180  \n",
       "1              0.001724        13.0875        0.510204  3.376886  \n",
       "\n",
       "[2 rows x 30 columns]"
      ]
     },
     "execution_count": 38,
     "metadata": {},
     "output_type": "execute_result"
    }
   ],
   "source": [
    "df_ranker_train = df_ranker_train.merge(mean_good_price, on='item_id', how='left')\n",
    "df_ranker_train.head(2)"
   ]
  },
  {
   "cell_type": "markdown",
   "metadata": {},
   "source": [
    "**Кол-во покупок в неделю**"
   ]
  },
  {
   "cell_type": "code",
   "execution_count": 39,
   "metadata": {},
   "outputs": [
    {
     "data": {
      "text/html": [
       "<div>\n",
       "<style scoped>\n",
       "    .dataframe tbody tr th:only-of-type {\n",
       "        vertical-align: middle;\n",
       "    }\n",
       "\n",
       "    .dataframe tbody tr th {\n",
       "        vertical-align: top;\n",
       "    }\n",
       "\n",
       "    .dataframe thead th {\n",
       "        text-align: right;\n",
       "    }\n",
       "</style>\n",
       "<table border=\"1\" class=\"dataframe\">\n",
       "  <thead>\n",
       "    <tr style=\"text-align: right;\">\n",
       "      <th></th>\n",
       "      <th>item_id</th>\n",
       "      <th>week_no</th>\n",
       "      <th>quantity</th>\n",
       "      <th>item_purchases_freq</th>\n",
       "    </tr>\n",
       "  </thead>\n",
       "  <tbody>\n",
       "    <tr>\n",
       "      <th>0</th>\n",
       "      <td>29512</td>\n",
       "      <td>1</td>\n",
       "      <td>1</td>\n",
       "      <td>1.0</td>\n",
       "    </tr>\n",
       "    <tr>\n",
       "      <th>1</th>\n",
       "      <td>30356</td>\n",
       "      <td>1</td>\n",
       "      <td>1</td>\n",
       "      <td>1.0</td>\n",
       "    </tr>\n",
       "  </tbody>\n",
       "</table>\n",
       "</div>"
      ],
      "text/plain": [
       "   item_id  week_no  quantity  item_purchases_freq\n",
       "0    29512        1         1                  1.0\n",
       "1    30356        1         1                  1.0"
      ]
     },
     "execution_count": 39,
     "metadata": {},
     "output_type": "execute_result"
    }
   ],
   "source": [
    "item_purchases_per_week = df_join_train_matcher.groupby('item_id').agg({'week_no': 'nunique', 'quantity': 'sum'}).reset_index()\n",
    "item_purchases_per_week['item_purchases_freq'] = item_purchases_per_week['quantity'] / item_purchases_per_week['week_no']\n",
    "item_purchases_per_week.head(2)"
   ]
  },
  {
   "cell_type": "code",
   "execution_count": 40,
   "metadata": {},
   "outputs": [
    {
     "data": {
      "text/html": [
       "<div>\n",
       "<style scoped>\n",
       "    .dataframe tbody tr th:only-of-type {\n",
       "        vertical-align: middle;\n",
       "    }\n",
       "\n",
       "    .dataframe tbody tr th {\n",
       "        vertical-align: top;\n",
       "    }\n",
       "\n",
       "    .dataframe thead th {\n",
       "        text-align: right;\n",
       "    }\n",
       "</style>\n",
       "<table border=\"1\" class=\"dataframe\">\n",
       "  <thead>\n",
       "    <tr style=\"text-align: right;\">\n",
       "      <th></th>\n",
       "      <th>user_id</th>\n",
       "      <th>item_id</th>\n",
       "      <th>target</th>\n",
       "      <th>manufacturer</th>\n",
       "      <th>department</th>\n",
       "      <th>brand</th>\n",
       "      <th>commodity_desc</th>\n",
       "      <th>sub_commodity_desc</th>\n",
       "      <th>curr_size_of_product</th>\n",
       "      <th>age_desc</th>\n",
       "      <th>...</th>\n",
       "      <th>item_quantity_per_week</th>\n",
       "      <th>user_quantity_per_week</th>\n",
       "      <th>item_quantity_per_basket</th>\n",
       "      <th>user_quantity_per_baskter</th>\n",
       "      <th>item_freq_per_basket</th>\n",
       "      <th>user_freq_per_basket</th>\n",
       "      <th>average_check</th>\n",
       "      <th>purchases_freq</th>\n",
       "      <th>price</th>\n",
       "      <th>item_purchases_freq</th>\n",
       "    </tr>\n",
       "  </thead>\n",
       "  <tbody>\n",
       "    <tr>\n",
       "      <th>0</th>\n",
       "      <td>338</td>\n",
       "      <td>13002975</td>\n",
       "      <td>1.0</td>\n",
       "      <td>2843</td>\n",
       "      <td>MEAT</td>\n",
       "      <td>National</td>\n",
       "      <td>BEEF</td>\n",
       "      <td>RIBS</td>\n",
       "      <td></td>\n",
       "      <td>NaN</td>\n",
       "      <td>...</td>\n",
       "      <td>1.305263</td>\n",
       "      <td>4.168421</td>\n",
       "      <td>0.000658</td>\n",
       "      <td>0.002101</td>\n",
       "      <td>0.000430</td>\n",
       "      <td>0.001724</td>\n",
       "      <td>13.0875</td>\n",
       "      <td>0.510204</td>\n",
       "      <td>4.120180</td>\n",
       "      <td>2.952381</td>\n",
       "    </tr>\n",
       "    <tr>\n",
       "      <th>1</th>\n",
       "      <td>338</td>\n",
       "      <td>1026118</td>\n",
       "      <td>1.0</td>\n",
       "      <td>2</td>\n",
       "      <td>PRODUCE</td>\n",
       "      <td>National</td>\n",
       "      <td>TOMATOES</td>\n",
       "      <td>ROMA TOMATOES (BULK/PKG)</td>\n",
       "      <td>25 LB</td>\n",
       "      <td>NaN</td>\n",
       "      <td>...</td>\n",
       "      <td>7.568421</td>\n",
       "      <td>4.168421</td>\n",
       "      <td>0.003814</td>\n",
       "      <td>0.002101</td>\n",
       "      <td>0.003824</td>\n",
       "      <td>0.001724</td>\n",
       "      <td>13.0875</td>\n",
       "      <td>0.510204</td>\n",
       "      <td>3.376886</td>\n",
       "      <td>7.648936</td>\n",
       "    </tr>\n",
       "  </tbody>\n",
       "</table>\n",
       "<p>2 rows × 31 columns</p>\n",
       "</div>"
      ],
      "text/plain": [
       "   user_id   item_id  target  manufacturer department     brand  \\\n",
       "0      338  13002975     1.0          2843       MEAT  National   \n",
       "1      338   1026118     1.0             2    PRODUCE  National   \n",
       "\n",
       "  commodity_desc        sub_commodity_desc curr_size_of_product age_desc  ...  \\\n",
       "0           BEEF                      RIBS                           NaN  ...   \n",
       "1       TOMATOES  ROMA TOMATOES (BULK/PKG)                25 LB      NaN  ...   \n",
       "\n",
       "  item_quantity_per_week user_quantity_per_week item_quantity_per_basket  \\\n",
       "0               1.305263               4.168421                 0.000658   \n",
       "1               7.568421               4.168421                 0.003814   \n",
       "\n",
       "  user_quantity_per_baskter item_freq_per_basket user_freq_per_basket  \\\n",
       "0                  0.002101             0.000430             0.001724   \n",
       "1                  0.002101             0.003824             0.001724   \n",
       "\n",
       "   average_check  purchases_freq     price  item_purchases_freq  \n",
       "0        13.0875        0.510204  4.120180             2.952381  \n",
       "1        13.0875        0.510204  3.376886             7.648936  \n",
       "\n",
       "[2 rows x 31 columns]"
      ]
     },
     "execution_count": 40,
     "metadata": {},
     "output_type": "execute_result"
    }
   ],
   "source": [
    "df_ranker_train = df_ranker_train.merge(item_purchases_per_week[['item_id', 'item_purchases_freq']], on='item_id', how='left')\n",
    "df_ranker_train.head(2)"
   ]
  },
  {
   "cell_type": "markdown",
   "metadata": {},
   "source": [
    "### Фичи user-item"
   ]
  },
  {
   "cell_type": "markdown",
   "metadata": {},
   "source": [
    "**(Средняя сумма покупки 1 товара в каждой категории (берем категорию item_id)) - (Цена item_id)**"
   ]
  },
  {
   "cell_type": "code",
   "execution_count": 41,
   "metadata": {},
   "outputs": [],
   "source": [
    "df_join_train_matcher = df_join_train_matcher.merge(item_features, on = 'item_id', how = 'left')"
   ]
  },
  {
   "cell_type": "code",
   "execution_count": 42,
   "metadata": {},
   "outputs": [
    {
     "data": {
      "text/html": [
       "<div>\n",
       "<style scoped>\n",
       "    .dataframe tbody tr th:only-of-type {\n",
       "        vertical-align: middle;\n",
       "    }\n",
       "\n",
       "    .dataframe tbody tr th {\n",
       "        vertical-align: top;\n",
       "    }\n",
       "\n",
       "    .dataframe thead th {\n",
       "        text-align: right;\n",
       "    }\n",
       "</style>\n",
       "<table border=\"1\" class=\"dataframe\">\n",
       "  <thead>\n",
       "    <tr style=\"text-align: right;\">\n",
       "      <th></th>\n",
       "      <th>user_id</th>\n",
       "      <th>department</th>\n",
       "      <th>mean_category_check</th>\n",
       "    </tr>\n",
       "  </thead>\n",
       "  <tbody>\n",
       "    <tr>\n",
       "      <th>0</th>\n",
       "      <td>1</td>\n",
       "      <td>DELI</td>\n",
       "      <td>3.338621</td>\n",
       "    </tr>\n",
       "    <tr>\n",
       "      <th>1</th>\n",
       "      <td>1</td>\n",
       "      <td>DRUG GM</td>\n",
       "      <td>3.571250</td>\n",
       "    </tr>\n",
       "    <tr>\n",
       "      <th>2</th>\n",
       "      <td>1</td>\n",
       "      <td>GROCERY</td>\n",
       "      <td>3.066459</td>\n",
       "    </tr>\n",
       "    <tr>\n",
       "      <th>3</th>\n",
       "      <td>1</td>\n",
       "      <td>MEAT</td>\n",
       "      <td>3.971667</td>\n",
       "    </tr>\n",
       "    <tr>\n",
       "      <th>4</th>\n",
       "      <td>1</td>\n",
       "      <td>MEAT-PCKGD</td>\n",
       "      <td>3.080610</td>\n",
       "    </tr>\n",
       "  </tbody>\n",
       "</table>\n",
       "</div>"
      ],
      "text/plain": [
       "   user_id  department  mean_category_check\n",
       "0        1        DELI             3.338621\n",
       "1        1     DRUG GM             3.571250\n",
       "2        1     GROCERY             3.066459\n",
       "3        1        MEAT             3.971667\n",
       "4        1  MEAT-PCKGD             3.080610"
      ]
     },
     "execution_count": 42,
     "metadata": {},
     "output_type": "execute_result"
    }
   ],
   "source": [
    "mean_category_check = df_join_train_matcher.groupby(['user_id', 'department']).agg({'price': 'mean'}).reset_index()\n",
    "mean_category_check.rename(columns={'price': 'mean_category_check'}, inplace=True)\n",
    "mean_category_check.head()"
   ]
  },
  {
   "cell_type": "code",
   "execution_count": 43,
   "metadata": {},
   "outputs": [
    {
     "data": {
      "text/html": [
       "<div>\n",
       "<style scoped>\n",
       "    .dataframe tbody tr th:only-of-type {\n",
       "        vertical-align: middle;\n",
       "    }\n",
       "\n",
       "    .dataframe tbody tr th {\n",
       "        vertical-align: top;\n",
       "    }\n",
       "\n",
       "    .dataframe thead th {\n",
       "        text-align: right;\n",
       "    }\n",
       "</style>\n",
       "<table border=\"1\" class=\"dataframe\">\n",
       "  <thead>\n",
       "    <tr style=\"text-align: right;\">\n",
       "      <th></th>\n",
       "      <th>user_id</th>\n",
       "      <th>item_id</th>\n",
       "      <th>target</th>\n",
       "      <th>manufacturer</th>\n",
       "      <th>department</th>\n",
       "      <th>brand</th>\n",
       "      <th>commodity_desc</th>\n",
       "      <th>sub_commodity_desc</th>\n",
       "      <th>curr_size_of_product</th>\n",
       "      <th>age_desc</th>\n",
       "      <th>...</th>\n",
       "      <th>user_quantity_per_week</th>\n",
       "      <th>item_quantity_per_basket</th>\n",
       "      <th>user_quantity_per_baskter</th>\n",
       "      <th>item_freq_per_basket</th>\n",
       "      <th>user_freq_per_basket</th>\n",
       "      <th>average_check</th>\n",
       "      <th>purchases_freq</th>\n",
       "      <th>price</th>\n",
       "      <th>item_purchases_freq</th>\n",
       "      <th>mean_category_check</th>\n",
       "    </tr>\n",
       "  </thead>\n",
       "  <tbody>\n",
       "    <tr>\n",
       "      <th>0</th>\n",
       "      <td>338</td>\n",
       "      <td>13002975</td>\n",
       "      <td>1.0</td>\n",
       "      <td>2843</td>\n",
       "      <td>MEAT</td>\n",
       "      <td>National</td>\n",
       "      <td>BEEF</td>\n",
       "      <td>RIBS</td>\n",
       "      <td></td>\n",
       "      <td>NaN</td>\n",
       "      <td>...</td>\n",
       "      <td>4.168421</td>\n",
       "      <td>0.000658</td>\n",
       "      <td>0.002101</td>\n",
       "      <td>0.000430</td>\n",
       "      <td>0.001724</td>\n",
       "      <td>13.0875</td>\n",
       "      <td>0.510204</td>\n",
       "      <td>4.120180</td>\n",
       "      <td>2.952381</td>\n",
       "      <td>3.733478</td>\n",
       "    </tr>\n",
       "    <tr>\n",
       "      <th>1</th>\n",
       "      <td>338</td>\n",
       "      <td>1026118</td>\n",
       "      <td>1.0</td>\n",
       "      <td>2</td>\n",
       "      <td>PRODUCE</td>\n",
       "      <td>National</td>\n",
       "      <td>TOMATOES</td>\n",
       "      <td>ROMA TOMATOES (BULK/PKG)</td>\n",
       "      <td>25 LB</td>\n",
       "      <td>NaN</td>\n",
       "      <td>...</td>\n",
       "      <td>4.168421</td>\n",
       "      <td>0.003814</td>\n",
       "      <td>0.002101</td>\n",
       "      <td>0.003824</td>\n",
       "      <td>0.001724</td>\n",
       "      <td>13.0875</td>\n",
       "      <td>0.510204</td>\n",
       "      <td>3.376886</td>\n",
       "      <td>7.648936</td>\n",
       "      <td>2.422162</td>\n",
       "    </tr>\n",
       "  </tbody>\n",
       "</table>\n",
       "<p>2 rows × 32 columns</p>\n",
       "</div>"
      ],
      "text/plain": [
       "   user_id   item_id  target  manufacturer department     brand  \\\n",
       "0      338  13002975     1.0          2843       MEAT  National   \n",
       "1      338   1026118     1.0             2    PRODUCE  National   \n",
       "\n",
       "  commodity_desc        sub_commodity_desc curr_size_of_product age_desc  ...  \\\n",
       "0           BEEF                      RIBS                           NaN  ...   \n",
       "1       TOMATOES  ROMA TOMATOES (BULK/PKG)                25 LB      NaN  ...   \n",
       "\n",
       "  user_quantity_per_week item_quantity_per_basket user_quantity_per_baskter  \\\n",
       "0               4.168421                 0.000658                  0.002101   \n",
       "1               4.168421                 0.003814                  0.002101   \n",
       "\n",
       "  item_freq_per_basket user_freq_per_basket average_check  purchases_freq  \\\n",
       "0             0.000430             0.001724       13.0875        0.510204   \n",
       "1             0.003824             0.001724       13.0875        0.510204   \n",
       "\n",
       "      price  item_purchases_freq  mean_category_check  \n",
       "0  4.120180             2.952381             3.733478  \n",
       "1  3.376886             7.648936             2.422162  \n",
       "\n",
       "[2 rows x 32 columns]"
      ]
     },
     "execution_count": 43,
     "metadata": {},
     "output_type": "execute_result"
    }
   ],
   "source": [
    "df_ranker_train = df_ranker_train.merge(mean_category_check, on=['user_id', 'department'], how='left')\n",
    "df_ranker_train.head(2)"
   ]
  },
  {
   "cell_type": "code",
   "execution_count": 44,
   "metadata": {},
   "outputs": [
    {
     "data": {
      "text/html": [
       "<div>\n",
       "<style scoped>\n",
       "    .dataframe tbody tr th:only-of-type {\n",
       "        vertical-align: middle;\n",
       "    }\n",
       "\n",
       "    .dataframe tbody tr th {\n",
       "        vertical-align: top;\n",
       "    }\n",
       "\n",
       "    .dataframe thead th {\n",
       "        text-align: right;\n",
       "    }\n",
       "</style>\n",
       "<table border=\"1\" class=\"dataframe\">\n",
       "  <thead>\n",
       "    <tr style=\"text-align: right;\">\n",
       "      <th></th>\n",
       "      <th>user_id</th>\n",
       "      <th>item_id</th>\n",
       "      <th>target</th>\n",
       "      <th>manufacturer</th>\n",
       "      <th>department</th>\n",
       "      <th>brand</th>\n",
       "      <th>commodity_desc</th>\n",
       "      <th>sub_commodity_desc</th>\n",
       "      <th>curr_size_of_product</th>\n",
       "      <th>age_desc</th>\n",
       "      <th>...</th>\n",
       "      <th>user_quantity_per_week</th>\n",
       "      <th>item_quantity_per_basket</th>\n",
       "      <th>user_quantity_per_baskter</th>\n",
       "      <th>item_freq_per_basket</th>\n",
       "      <th>user_freq_per_basket</th>\n",
       "      <th>average_check</th>\n",
       "      <th>purchases_freq</th>\n",
       "      <th>price</th>\n",
       "      <th>item_purchases_freq</th>\n",
       "      <th>mean_category_check_price</th>\n",
       "    </tr>\n",
       "  </thead>\n",
       "  <tbody>\n",
       "    <tr>\n",
       "      <th>0</th>\n",
       "      <td>338</td>\n",
       "      <td>13002975</td>\n",
       "      <td>1.0</td>\n",
       "      <td>2843</td>\n",
       "      <td>MEAT</td>\n",
       "      <td>National</td>\n",
       "      <td>BEEF</td>\n",
       "      <td>RIBS</td>\n",
       "      <td></td>\n",
       "      <td>NaN</td>\n",
       "      <td>...</td>\n",
       "      <td>4.168421</td>\n",
       "      <td>0.000658</td>\n",
       "      <td>0.002101</td>\n",
       "      <td>0.000430</td>\n",
       "      <td>0.001724</td>\n",
       "      <td>13.0875</td>\n",
       "      <td>0.510204</td>\n",
       "      <td>4.120180</td>\n",
       "      <td>2.952381</td>\n",
       "      <td>-0.386702</td>\n",
       "    </tr>\n",
       "    <tr>\n",
       "      <th>1</th>\n",
       "      <td>338</td>\n",
       "      <td>1026118</td>\n",
       "      <td>1.0</td>\n",
       "      <td>2</td>\n",
       "      <td>PRODUCE</td>\n",
       "      <td>National</td>\n",
       "      <td>TOMATOES</td>\n",
       "      <td>ROMA TOMATOES (BULK/PKG)</td>\n",
       "      <td>25 LB</td>\n",
       "      <td>NaN</td>\n",
       "      <td>...</td>\n",
       "      <td>4.168421</td>\n",
       "      <td>0.003814</td>\n",
       "      <td>0.002101</td>\n",
       "      <td>0.003824</td>\n",
       "      <td>0.001724</td>\n",
       "      <td>13.0875</td>\n",
       "      <td>0.510204</td>\n",
       "      <td>3.376886</td>\n",
       "      <td>7.648936</td>\n",
       "      <td>-0.954724</td>\n",
       "    </tr>\n",
       "    <tr>\n",
       "      <th>2</th>\n",
       "      <td>338</td>\n",
       "      <td>831628</td>\n",
       "      <td>0.0</td>\n",
       "      <td>2949</td>\n",
       "      <td>MEAT</td>\n",
       "      <td>National</td>\n",
       "      <td>BEEF</td>\n",
       "      <td>CHOICE BEEF</td>\n",
       "      <td></td>\n",
       "      <td>NaN</td>\n",
       "      <td>...</td>\n",
       "      <td>4.168421</td>\n",
       "      <td>0.004371</td>\n",
       "      <td>0.002101</td>\n",
       "      <td>0.003156</td>\n",
       "      <td>0.001724</td>\n",
       "      <td>13.0875</td>\n",
       "      <td>0.510204</td>\n",
       "      <td>4.766751</td>\n",
       "      <td>9.471264</td>\n",
       "      <td>-1.033273</td>\n",
       "    </tr>\n",
       "    <tr>\n",
       "      <th>3</th>\n",
       "      <td>338</td>\n",
       "      <td>959737</td>\n",
       "      <td>1.0</td>\n",
       "      <td>2343</td>\n",
       "      <td>GROCERY</td>\n",
       "      <td>National</td>\n",
       "      <td>BEERS/ALES</td>\n",
       "      <td>BEERALEMALT LIQUORS</td>\n",
       "      <td>12 OZ</td>\n",
       "      <td>NaN</td>\n",
       "      <td>...</td>\n",
       "      <td>4.168421</td>\n",
       "      <td>0.000812</td>\n",
       "      <td>0.002101</td>\n",
       "      <td>0.000743</td>\n",
       "      <td>0.001724</td>\n",
       "      <td>13.0875</td>\n",
       "      <td>0.510204</td>\n",
       "      <td>13.328571</td>\n",
       "      <td>2.250000</td>\n",
       "      <td>-10.144454</td>\n",
       "    </tr>\n",
       "    <tr>\n",
       "      <th>4</th>\n",
       "      <td>338</td>\n",
       "      <td>1082627</td>\n",
       "      <td>0.0</td>\n",
       "      <td>2</td>\n",
       "      <td>GROCERY</td>\n",
       "      <td>National</td>\n",
       "      <td>SOFT DRINKS</td>\n",
       "      <td>SOFT DRINKS 20PK&amp;24PK CAN CARB</td>\n",
       "      <td>12 OZ</td>\n",
       "      <td>NaN</td>\n",
       "      <td>...</td>\n",
       "      <td>4.168421</td>\n",
       "      <td>0.000875</td>\n",
       "      <td>0.002101</td>\n",
       "      <td>0.000764</td>\n",
       "      <td>0.001724</td>\n",
       "      <td>13.0875</td>\n",
       "      <td>0.510204</td>\n",
       "      <td>7.615139</td>\n",
       "      <td>2.291667</td>\n",
       "      <td>-4.431021</td>\n",
       "    </tr>\n",
       "  </tbody>\n",
       "</table>\n",
       "<p>5 rows × 32 columns</p>\n",
       "</div>"
      ],
      "text/plain": [
       "   user_id   item_id  target  manufacturer department     brand  \\\n",
       "0      338  13002975     1.0          2843       MEAT  National   \n",
       "1      338   1026118     1.0             2    PRODUCE  National   \n",
       "2      338    831628     0.0          2949       MEAT  National   \n",
       "3      338    959737     1.0          2343    GROCERY  National   \n",
       "4      338   1082627     0.0             2    GROCERY  National   \n",
       "\n",
       "  commodity_desc              sub_commodity_desc curr_size_of_product  \\\n",
       "0           BEEF                            RIBS                        \n",
       "1       TOMATOES        ROMA TOMATOES (BULK/PKG)                25 LB   \n",
       "2           BEEF                     CHOICE BEEF                        \n",
       "3     BEERS/ALES             BEERALEMALT LIQUORS                12 OZ   \n",
       "4    SOFT DRINKS  SOFT DRINKS 20PK&24PK CAN CARB                12 OZ   \n",
       "\n",
       "  age_desc  ... user_quantity_per_week item_quantity_per_basket  \\\n",
       "0      NaN  ...               4.168421                 0.000658   \n",
       "1      NaN  ...               4.168421                 0.003814   \n",
       "2      NaN  ...               4.168421                 0.004371   \n",
       "3      NaN  ...               4.168421                 0.000812   \n",
       "4      NaN  ...               4.168421                 0.000875   \n",
       "\n",
       "  user_quantity_per_baskter item_freq_per_basket user_freq_per_basket  \\\n",
       "0                  0.002101             0.000430             0.001724   \n",
       "1                  0.002101             0.003824             0.001724   \n",
       "2                  0.002101             0.003156             0.001724   \n",
       "3                  0.002101             0.000743             0.001724   \n",
       "4                  0.002101             0.000764             0.001724   \n",
       "\n",
       "  average_check  purchases_freq      price  item_purchases_freq  \\\n",
       "0       13.0875        0.510204   4.120180             2.952381   \n",
       "1       13.0875        0.510204   3.376886             7.648936   \n",
       "2       13.0875        0.510204   4.766751             9.471264   \n",
       "3       13.0875        0.510204  13.328571             2.250000   \n",
       "4       13.0875        0.510204   7.615139             2.291667   \n",
       "\n",
       "   mean_category_check_price  \n",
       "0                  -0.386702  \n",
       "1                  -0.954724  \n",
       "2                  -1.033273  \n",
       "3                 -10.144454  \n",
       "4                  -4.431021  \n",
       "\n",
       "[5 rows x 32 columns]"
      ]
     },
     "execution_count": 44,
     "metadata": {},
     "output_type": "execute_result"
    }
   ],
   "source": [
    "df_ranker_train['mean_category_check_price'] = df_ranker_train['mean_category_check'] - df_ranker_train['price']\n",
    "df_ranker_train.drop(columns=['mean_category_check'], inplace=True)\n",
    "df_ranker_train.head()"
   ]
  },
  {
   "cell_type": "markdown",
   "metadata": {},
   "source": [
    "**(Кол-во покупок юзером конкретной категории в неделю) - (Среднее кол-во покупок всеми юзерами конкретной категории в неделю)**\n",
    "\n",
    "**(Кол-во покупок юзером конкретной категории в неделю) / (Среднее кол-во покупок всеми юзерами конкретной категории в неделю)**"
   ]
  },
  {
   "cell_type": "code",
   "execution_count": 45,
   "metadata": {},
   "outputs": [
    {
     "data": {
      "text/html": [
       "<div>\n",
       "<style scoped>\n",
       "    .dataframe tbody tr th:only-of-type {\n",
       "        vertical-align: middle;\n",
       "    }\n",
       "\n",
       "    .dataframe tbody tr th {\n",
       "        vertical-align: top;\n",
       "    }\n",
       "\n",
       "    .dataframe thead tr th {\n",
       "        text-align: left;\n",
       "    }\n",
       "</style>\n",
       "<table border=\"1\" class=\"dataframe\">\n",
       "  <thead>\n",
       "    <tr>\n",
       "      <th></th>\n",
       "      <th>user_id</th>\n",
       "      <th>department</th>\n",
       "      <th>user_category_buy_per_week</th>\n",
       "    </tr>\n",
       "    <tr>\n",
       "      <th></th>\n",
       "      <th></th>\n",
       "      <th></th>\n",
       "      <th></th>\n",
       "    </tr>\n",
       "  </thead>\n",
       "  <tbody>\n",
       "    <tr>\n",
       "      <th>0</th>\n",
       "      <td>1</td>\n",
       "      <td>DELI</td>\n",
       "      <td>1.26087</td>\n",
       "    </tr>\n",
       "    <tr>\n",
       "      <th>1</th>\n",
       "      <td>1</td>\n",
       "      <td>DRUG GM</td>\n",
       "      <td>2.00000</td>\n",
       "    </tr>\n",
       "    <tr>\n",
       "      <th>2</th>\n",
       "      <td>1</td>\n",
       "      <td>GROCERY</td>\n",
       "      <td>5.00000</td>\n",
       "    </tr>\n",
       "    <tr>\n",
       "      <th>3</th>\n",
       "      <td>1</td>\n",
       "      <td>MEAT</td>\n",
       "      <td>1.00000</td>\n",
       "    </tr>\n",
       "    <tr>\n",
       "      <th>4</th>\n",
       "      <td>1</td>\n",
       "      <td>MEAT-PCKGD</td>\n",
       "      <td>2.00000</td>\n",
       "    </tr>\n",
       "  </tbody>\n",
       "</table>\n",
       "</div>"
      ],
      "text/plain": [
       "  user_id  department user_category_buy_per_week\n",
       "                                                \n",
       "0       1        DELI                    1.26087\n",
       "1       1     DRUG GM                    2.00000\n",
       "2       1     GROCERY                    5.00000\n",
       "3       1        MEAT                    1.00000\n",
       "4       1  MEAT-PCKGD                    2.00000"
      ]
     },
     "execution_count": 45,
     "metadata": {},
     "output_type": "execute_result"
    }
   ],
   "source": [
    "user_category_buy_per_week = df_join_train_matcher.groupby(['user_id', 'department']).agg({'week_no': ['count', 'nunique']}).reset_index()\n",
    "user_category_buy_per_week['user_category_buy_per_week'] = user_category_buy_per_week['week_no']['count'] / user_category_buy_per_week['week_no']['nunique']\n",
    "user_category_buy_per_week.drop(columns=['week_no'], inplace=True)\n",
    "user_category_buy_per_week.head()"
   ]
  },
  {
   "cell_type": "code",
   "execution_count": 46,
   "metadata": {},
   "outputs": [
    {
     "data": {
      "text/html": [
       "<div>\n",
       "<style scoped>\n",
       "    .dataframe tbody tr th:only-of-type {\n",
       "        vertical-align: middle;\n",
       "    }\n",
       "\n",
       "    .dataframe tbody tr th {\n",
       "        vertical-align: top;\n",
       "    }\n",
       "\n",
       "    .dataframe thead tr th {\n",
       "        text-align: left;\n",
       "    }\n",
       "</style>\n",
       "<table border=\"1\" class=\"dataframe\">\n",
       "  <thead>\n",
       "    <tr>\n",
       "      <th></th>\n",
       "      <th>department</th>\n",
       "      <th>all_users_category_buy_per_week</th>\n",
       "    </tr>\n",
       "    <tr>\n",
       "      <th></th>\n",
       "      <th></th>\n",
       "      <th></th>\n",
       "    </tr>\n",
       "  </thead>\n",
       "  <tbody>\n",
       "    <tr>\n",
       "      <th>0</th>\n",
       "      <td></td>\n",
       "      <td>76.00</td>\n",
       "    </tr>\n",
       "    <tr>\n",
       "      <th>1</th>\n",
       "      <td>AUTOMOTIVE</td>\n",
       "      <td>1.00</td>\n",
       "    </tr>\n",
       "    <tr>\n",
       "      <th>2</th>\n",
       "      <td>CHEF SHOPPE</td>\n",
       "      <td>10.00</td>\n",
       "    </tr>\n",
       "    <tr>\n",
       "      <th>3</th>\n",
       "      <td>CNTRL/STORE SUP</td>\n",
       "      <td>2.50</td>\n",
       "    </tr>\n",
       "    <tr>\n",
       "      <th>4</th>\n",
       "      <td>COSMETICS</td>\n",
       "      <td>96.25</td>\n",
       "    </tr>\n",
       "  </tbody>\n",
       "</table>\n",
       "</div>"
      ],
      "text/plain": [
       "        department all_users_category_buy_per_week\n",
       "                                                  \n",
       "0                                            76.00\n",
       "1       AUTOMOTIVE                            1.00\n",
       "2      CHEF SHOPPE                           10.00\n",
       "3  CNTRL/STORE SUP                            2.50\n",
       "4        COSMETICS                           96.25"
      ]
     },
     "execution_count": 46,
     "metadata": {},
     "output_type": "execute_result"
    }
   ],
   "source": [
    "all_users_category_buy_per_week = df_join_train_matcher.groupby(['department']).agg({'week_no': ['count', 'nunique']}).reset_index()\n",
    "all_users_category_buy_per_week['all_users_category_buy_per_week'] = all_users_category_buy_per_week['week_no']['count'] / all_users_category_buy_per_week['week_no']['nunique']\n",
    "all_users_category_buy_per_week.drop(columns=['week_no'], inplace=True)\n",
    "all_users_category_buy_per_week.head()"
   ]
  },
  {
   "cell_type": "code",
   "execution_count": 47,
   "metadata": {},
   "outputs": [
    {
     "data": {
      "text/html": [
       "<div>\n",
       "<style scoped>\n",
       "    .dataframe tbody tr th:only-of-type {\n",
       "        vertical-align: middle;\n",
       "    }\n",
       "\n",
       "    .dataframe tbody tr th {\n",
       "        vertical-align: top;\n",
       "    }\n",
       "\n",
       "    .dataframe thead tr th {\n",
       "        text-align: left;\n",
       "    }\n",
       "</style>\n",
       "<table border=\"1\" class=\"dataframe\">\n",
       "  <thead>\n",
       "    <tr>\n",
       "      <th></th>\n",
       "      <th>user_id</th>\n",
       "      <th>user_category_buy_per_week_1</th>\n",
       "      <th>user_category_buy_per_week_2</th>\n",
       "      <th>department</th>\n",
       "    </tr>\n",
       "    <tr>\n",
       "      <th></th>\n",
       "      <th></th>\n",
       "      <th></th>\n",
       "      <th></th>\n",
       "      <th></th>\n",
       "    </tr>\n",
       "  </thead>\n",
       "  <tbody>\n",
       "    <tr>\n",
       "      <th>0</th>\n",
       "      <td>1</td>\n",
       "      <td>-345.897025</td>\n",
       "      <td>0.003632</td>\n",
       "      <td>DELI</td>\n",
       "    </tr>\n",
       "    <tr>\n",
       "      <th>1</th>\n",
       "      <td>1</td>\n",
       "      <td>-348.400000</td>\n",
       "      <td>0.005708</td>\n",
       "      <td>DRUG GM</td>\n",
       "    </tr>\n",
       "    <tr>\n",
       "      <th>2</th>\n",
       "      <td>1</td>\n",
       "      <td>-3825.789474</td>\n",
       "      <td>0.001305</td>\n",
       "      <td>GROCERY</td>\n",
       "    </tr>\n",
       "    <tr>\n",
       "      <th>3</th>\n",
       "      <td>1</td>\n",
       "      <td>-612.663158</td>\n",
       "      <td>0.001630</td>\n",
       "      <td>MEAT</td>\n",
       "    </tr>\n",
       "    <tr>\n",
       "      <th>4</th>\n",
       "      <td>1</td>\n",
       "      <td>-604.136842</td>\n",
       "      <td>0.003300</td>\n",
       "      <td>MEAT-PCKGD</td>\n",
       "    </tr>\n",
       "  </tbody>\n",
       "</table>\n",
       "</div>"
      ],
      "text/plain": [
       "  user_id user_category_buy_per_week_1 user_category_buy_per_week_2  \\\n",
       "                                                                      \n",
       "0       1                  -345.897025                     0.003632   \n",
       "1       1                  -348.400000                     0.005708   \n",
       "2       1                 -3825.789474                     0.001305   \n",
       "3       1                  -612.663158                     0.001630   \n",
       "4       1                  -604.136842                     0.003300   \n",
       "\n",
       "   department  \n",
       "               \n",
       "0        DELI  \n",
       "1     DRUG GM  \n",
       "2     GROCERY  \n",
       "3        MEAT  \n",
       "4  MEAT-PCKGD  "
      ]
     },
     "execution_count": 47,
     "metadata": {},
     "output_type": "execute_result"
    }
   ],
   "source": [
    "user_category_buy_per_week = user_category_buy_per_week.merge(all_users_category_buy_per_week, on='department', how='left')\n",
    "user_category_buy_per_week['user_category_buy_per_week_1'] = user_category_buy_per_week['user_category_buy_per_week'] - user_category_buy_per_week['all_users_category_buy_per_week']\n",
    "user_category_buy_per_week['user_category_buy_per_week_2'] = user_category_buy_per_week['user_category_buy_per_week'] / user_category_buy_per_week['all_users_category_buy_per_week']\n",
    "user_category_buy_per_week = user_category_buy_per_week[['user_id', 'user_category_buy_per_week_1', 'user_category_buy_per_week_2', 'department']]\n",
    "user_category_buy_per_week.head()"
   ]
  },
  {
   "cell_type": "code",
   "execution_count": 48,
   "metadata": {},
   "outputs": [
    {
     "data": {
      "text/html": [
       "<div>\n",
       "<style scoped>\n",
       "    .dataframe tbody tr th:only-of-type {\n",
       "        vertical-align: middle;\n",
       "    }\n",
       "\n",
       "    .dataframe tbody tr th {\n",
       "        vertical-align: top;\n",
       "    }\n",
       "\n",
       "    .dataframe thead th {\n",
       "        text-align: right;\n",
       "    }\n",
       "</style>\n",
       "<table border=\"1\" class=\"dataframe\">\n",
       "  <thead>\n",
       "    <tr style=\"text-align: right;\">\n",
       "      <th></th>\n",
       "      <th>user_id</th>\n",
       "      <th>item_id</th>\n",
       "      <th>target</th>\n",
       "      <th>manufacturer</th>\n",
       "      <th>department</th>\n",
       "      <th>brand</th>\n",
       "      <th>commodity_desc</th>\n",
       "      <th>sub_commodity_desc</th>\n",
       "      <th>curr_size_of_product</th>\n",
       "      <th>age_desc</th>\n",
       "      <th>...</th>\n",
       "      <th>user_quantity_per_baskter</th>\n",
       "      <th>item_freq_per_basket</th>\n",
       "      <th>user_freq_per_basket</th>\n",
       "      <th>average_check</th>\n",
       "      <th>purchases_freq</th>\n",
       "      <th>price</th>\n",
       "      <th>item_purchases_freq</th>\n",
       "      <th>mean_category_check_price</th>\n",
       "      <th>(user_category_buy_per_week_1, )</th>\n",
       "      <th>(user_category_buy_per_week_2, )</th>\n",
       "    </tr>\n",
       "  </thead>\n",
       "  <tbody>\n",
       "    <tr>\n",
       "      <th>0</th>\n",
       "      <td>338</td>\n",
       "      <td>13002975</td>\n",
       "      <td>1.0</td>\n",
       "      <td>2843</td>\n",
       "      <td>MEAT</td>\n",
       "      <td>National</td>\n",
       "      <td>BEEF</td>\n",
       "      <td>RIBS</td>\n",
       "      <td></td>\n",
       "      <td>NaN</td>\n",
       "      <td>...</td>\n",
       "      <td>0.002101</td>\n",
       "      <td>0.000430</td>\n",
       "      <td>0.001724</td>\n",
       "      <td>13.0875</td>\n",
       "      <td>0.510204</td>\n",
       "      <td>4.120180</td>\n",
       "      <td>2.952381</td>\n",
       "      <td>-0.386702</td>\n",
       "      <td>-611.740081</td>\n",
       "      <td>0.003134</td>\n",
       "    </tr>\n",
       "    <tr>\n",
       "      <th>1</th>\n",
       "      <td>338</td>\n",
       "      <td>1026118</td>\n",
       "      <td>1.0</td>\n",
       "      <td>2</td>\n",
       "      <td>PRODUCE</td>\n",
       "      <td>National</td>\n",
       "      <td>TOMATOES</td>\n",
       "      <td>ROMA TOMATOES (BULK/PKG)</td>\n",
       "      <td>25 LB</td>\n",
       "      <td>NaN</td>\n",
       "      <td>...</td>\n",
       "      <td>0.002101</td>\n",
       "      <td>0.003824</td>\n",
       "      <td>0.001724</td>\n",
       "      <td>13.0875</td>\n",
       "      <td>0.510204</td>\n",
       "      <td>3.376886</td>\n",
       "      <td>7.648936</td>\n",
       "      <td>-0.954724</td>\n",
       "      <td>-788.433956</td>\n",
       "      <td>0.003019</td>\n",
       "    </tr>\n",
       "  </tbody>\n",
       "</table>\n",
       "<p>2 rows × 34 columns</p>\n",
       "</div>"
      ],
      "text/plain": [
       "   user_id   item_id  target  manufacturer department     brand  \\\n",
       "0      338  13002975     1.0          2843       MEAT  National   \n",
       "1      338   1026118     1.0             2    PRODUCE  National   \n",
       "\n",
       "  commodity_desc        sub_commodity_desc curr_size_of_product age_desc  ...  \\\n",
       "0           BEEF                      RIBS                           NaN  ...   \n",
       "1       TOMATOES  ROMA TOMATOES (BULK/PKG)                25 LB      NaN  ...   \n",
       "\n",
       "  user_quantity_per_baskter item_freq_per_basket user_freq_per_basket  \\\n",
       "0                  0.002101             0.000430             0.001724   \n",
       "1                  0.002101             0.003824             0.001724   \n",
       "\n",
       "  average_check purchases_freq     price  item_purchases_freq  \\\n",
       "0       13.0875       0.510204  4.120180             2.952381   \n",
       "1       13.0875       0.510204  3.376886             7.648936   \n",
       "\n",
       "   mean_category_check_price  (user_category_buy_per_week_1, )  \\\n",
       "0                  -0.386702                       -611.740081   \n",
       "1                  -0.954724                       -788.433956   \n",
       "\n",
       "   (user_category_buy_per_week_2, )  \n",
       "0                          0.003134  \n",
       "1                          0.003019  \n",
       "\n",
       "[2 rows x 34 columns]"
      ]
     },
     "execution_count": 48,
     "metadata": {},
     "output_type": "execute_result"
    }
   ],
   "source": [
    "df_ranker_train = df_ranker_train.merge(user_category_buy_per_week, on=['user_id', 'department'], how='left')\n",
    "df_ranker_train.head(2)"
   ]
  },
  {
   "cell_type": "code",
   "execution_count": 49,
   "metadata": {
    "scrolled": true
   },
   "outputs": [],
   "source": [
    "df_ranker_train.rename(columns={('user_category_buy_per_week_1', '') : \"user_category_buy_per_week_1\",\n",
    "                                ('user_category_buy_per_week_2', '') : \"user_category_buy_per_week_2\"},\n",
    "                      inplace=True) "
   ]
  },
  {
   "cell_type": "markdown",
   "metadata": {},
   "source": [
    "#### В данных остались некоторые пропуски (в категориальных фичах), но их простое заполнение модой ухудшало общий результат. Теоретически можно было бы попробовать заполнение через similar_users, предполагая, что пользователи с похожими покупками имеют одинаковый возраст, семейное положение и т.д. Здесь не реализовано."
   ]
  },
  {
   "cell_type": "markdown",
   "metadata": {},
   "source": [
    "**Обучение**"
   ]
  },
  {
   "cell_type": "code",
   "execution_count": 50,
   "metadata": {},
   "outputs": [],
   "source": [
    "X_train = df_ranker_train.drop('target', axis=1)\n",
    "y_train = df_ranker_train[['target']]"
   ]
  },
  {
   "cell_type": "markdown",
   "metadata": {},
   "source": [
    "Делаем OHE для категориальных фичей"
   ]
  },
  {
   "cell_type": "code",
   "execution_count": 51,
   "metadata": {
    "scrolled": false
   },
   "outputs": [
    {
     "data": {
      "text/plain": [
       "['manufacturer',\n",
       " 'department',\n",
       " 'brand',\n",
       " 'commodity_desc',\n",
       " 'sub_commodity_desc',\n",
       " 'curr_size_of_product',\n",
       " 'age_desc',\n",
       " 'marital_status_code',\n",
       " 'income_desc',\n",
       " 'homeowner_desc',\n",
       " 'hh_comp_desc',\n",
       " 'household_size_desc',\n",
       " 'kid_category_desc']"
      ]
     },
     "execution_count": 51,
     "metadata": {},
     "output_type": "execute_result"
    }
   ],
   "source": [
    "cat_feats = X_train.columns[2:15].tolist()\n",
    "X_train[cat_feats] = X_train[cat_feats].astype('category')\n",
    "\n",
    "cat_feats"
   ]
  },
  {
   "cell_type": "markdown",
   "metadata": {},
   "source": [
    "## Обучение модели ранжирования"
   ]
  },
  {
   "cell_type": "markdown",
   "metadata": {},
   "source": [
    "#### Параметры модели подобраны"
   ]
  },
  {
   "cell_type": "code",
   "execution_count": 52,
   "metadata": {
    "scrolled": false
   },
   "outputs": [],
   "source": [
    "lgb = LGBMClassifier(objective='binary',\n",
    "                     num_leaves=30,\n",
    "                     max_depth=8,\n",
    "                     n_estimators=600,\n",
    "                     learning_rate=0.15,\n",
    "                     categorical_column=cat_feats)\n",
    "\n",
    "lgb.fit(X_train, y_train)\n",
    "\n",
    "train_preds = lgb.predict_proba(X_train)"
   ]
  },
  {
   "cell_type": "code",
   "execution_count": 53,
   "metadata": {},
   "outputs": [],
   "source": [
    "df_ranker_predict = df_ranker_train.copy()"
   ]
  },
  {
   "cell_type": "code",
   "execution_count": 54,
   "metadata": {},
   "outputs": [],
   "source": [
    "df_ranker_predict['proba_item_purchase'] = train_preds[:,1]"
   ]
  },
  {
   "cell_type": "markdown",
   "metadata": {},
   "source": [
    "## Подведем итоги\n",
    "\n",
    "Мы обучили модель ранжирования на покупках из сета data_train_ranker и на кандитатах от own_recommendations, что является тренировочным сетом, и теперь наша задача предсказать и оценить именно на тестовом сете."
   ]
  },
  {
   "cell_type": "markdown",
   "metadata": {},
   "source": [
    "# Evaluation on test dataset"
   ]
  },
  {
   "cell_type": "code",
   "execution_count": 55,
   "metadata": {},
   "outputs": [
    {
     "data": {
      "text/html": [
       "<div>\n",
       "<style scoped>\n",
       "    .dataframe tbody tr th:only-of-type {\n",
       "        vertical-align: middle;\n",
       "    }\n",
       "\n",
       "    .dataframe tbody tr th {\n",
       "        vertical-align: top;\n",
       "    }\n",
       "\n",
       "    .dataframe thead th {\n",
       "        text-align: right;\n",
       "    }\n",
       "</style>\n",
       "<table border=\"1\" class=\"dataframe\">\n",
       "  <thead>\n",
       "    <tr style=\"text-align: right;\">\n",
       "      <th></th>\n",
       "      <th>user_id</th>\n",
       "      <th>actual</th>\n",
       "    </tr>\n",
       "  </thead>\n",
       "  <tbody>\n",
       "    <tr>\n",
       "      <th>0</th>\n",
       "      <td>1</td>\n",
       "      <td>[880007, 883616, 931136, 938004, 940947, 94726...</td>\n",
       "    </tr>\n",
       "    <tr>\n",
       "      <th>1</th>\n",
       "      <td>2</td>\n",
       "      <td>[820165, 820291, 826784, 826835, 829009, 85784...</td>\n",
       "    </tr>\n",
       "  </tbody>\n",
       "</table>\n",
       "</div>"
      ],
      "text/plain": [
       "   user_id                                             actual\n",
       "0        1  [880007, 883616, 931136, 938004, 940947, 94726...\n",
       "1        2  [820165, 820291, 826784, 826835, 829009, 85784..."
      ]
     },
     "execution_count": 55,
     "metadata": {},
     "output_type": "execute_result"
    }
   ],
   "source": [
    "result_eval_ranker = df_test.groupby(USER_COL)[ITEM_COL].unique().reset_index()\n",
    "result_eval_ranker.columns=[USER_COL, ACTUAL_COL]\n",
    "result_eval_ranker.head(2)"
   ]
  },
  {
   "cell_type": "markdown",
   "metadata": {},
   "source": [
    "## Eval matching on test dataset"
   ]
  },
  {
   "cell_type": "code",
   "execution_count": 56,
   "metadata": {},
   "outputs": [
    {
     "name": "stdout",
     "output_type": "stream",
     "text": [
      "CPU times: user 3.84 s, sys: 254 ms, total: 4.1 s\n",
      "Wall time: 4.15 s\n"
     ]
    }
   ],
   "source": [
    "%%time\n",
    "result_eval_ranker['own_rec'] = result_eval_ranker[USER_COL].apply(lambda x: recommender.get_own_recommendations(x, N=50))"
   ]
  },
  {
   "cell_type": "code",
   "execution_count": 57,
   "metadata": {},
   "outputs": [
    {
     "data": {
      "text/plain": [
       "[('own_rec', 0.15092936802973875)]"
      ]
     },
     "execution_count": 57,
     "metadata": {},
     "output_type": "execute_result"
    }
   ],
   "source": [
    "# померяем precision только модели матчинга, чтобы понимать влияение ранжирования на метрики\n",
    "\n",
    "sorted(calc_precision(result_eval_ranker, 5), key=lambda x: x[1], reverse=True)"
   ]
  },
  {
   "cell_type": "markdown",
   "metadata": {},
   "source": [
    "## Eval re-ranked matched result on test dataset"
   ]
  },
  {
   "cell_type": "code",
   "execution_count": 58,
   "metadata": {},
   "outputs": [],
   "source": [
    "def rerank(user_id):\n",
    "    return df_ranker_predict[df_ranker_predict[USER_COL]==user_id].sort_values('proba_item_purchase', ascending=False).head(5).item_id.tolist()"
   ]
  },
  {
   "cell_type": "code",
   "execution_count": 59,
   "metadata": {},
   "outputs": [],
   "source": [
    "result_eval_ranker['reranked_own_rec'] = result_eval_ranker[USER_COL].apply(lambda user_id: rerank(user_id))"
   ]
  },
  {
   "cell_type": "code",
   "execution_count": 60,
   "metadata": {
    "scrolled": false
   },
   "outputs": [
    {
     "name": "stdout",
     "output_type": "stream",
     "text": [
      "('reranked_own_rec', 0.21887666473653541)\n",
      "('own_rec', 0.15092936802973875)\n"
     ]
    }
   ],
   "source": [
    "print(*sorted(calc_precision(result_eval_ranker, 5), key=lambda x: x[1], reverse=True), sep='\\n')"
   ]
  },
  {
   "cell_type": "code",
   "execution_count": 61,
   "metadata": {},
   "outputs": [],
   "source": [
    "save_to_csv = result_eval_ranker[['user_id', 'reranked_own_rec']].rename({'reranked_own_rec': 'recommendations'})"
   ]
  },
  {
   "cell_type": "code",
   "execution_count": 62,
   "metadata": {},
   "outputs": [],
   "source": [
    "save_to_csv.to_csv('recommendations.csv')"
   ]
  },
  {
   "cell_type": "markdown",
   "metadata": {},
   "source": [
    "## Выводы"
   ]
  },
  {
   "cell_type": "markdown",
   "metadata": {},
   "source": [
    "Двухуровневая модель дала прирост > 0.065 в абсолютных единицах и на 45 % в относительных при сравнении с базовой моделью.\n",
    "\n",
    "Направления улучшения:\n",
    "1. Корректное заполнение пропусков.\n",
    "2. OHE-Encoding.\n",
    "3. Генерация дополнительныхз бизнес-фич.\n",
    "4. Анализ других моделей для второго уровня (CatBoostClassifier).\n",
    "5. Улучшение базовой модели MainRecommender для улучшения метрики recall.\n",
    "6. Упаковка всего в пайплайн для подготовки в продакшн."
   ]
  },
  {
   "cell_type": "code",
   "execution_count": null,
   "metadata": {},
   "outputs": [],
   "source": []
  }
 ],
 "metadata": {
  "kernelspec": {
   "display_name": "Python 3",
   "language": "python",
   "name": "python3"
  },
  "language_info": {
   "codemirror_mode": {
    "name": "ipython",
    "version": 3
   },
   "file_extension": ".py",
   "mimetype": "text/x-python",
   "name": "python",
   "nbconvert_exporter": "python",
   "pygments_lexer": "ipython3",
   "version": "3.8.5"
  }
 },
 "nbformat": 4,
 "nbformat_minor": 2
}
